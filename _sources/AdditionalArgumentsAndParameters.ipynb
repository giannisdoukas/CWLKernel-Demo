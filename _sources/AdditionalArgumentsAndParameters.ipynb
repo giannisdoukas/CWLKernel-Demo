{
 "cells": [
  {
   "cell_type": "markdown",
   "metadata": {},
   "source": [
    "# [Additional Arguments and Parameters](https://www.commonwl.org/user_guide/08-arguments/index.html)"
   ]
  },
  {
   "cell_type": "markdown",
   "metadata": {},
   "source": [
    "<div class=\"container\" style=\"background: #80deea; border-radius: 12px; padding: 8px; margin-bottom: 8px;\">\n",
    "    <h2 style=\"padding: 0px; margin-top: 0px\">Overview</h2>\n",
    "    <ul>\n",
    "        <li><b>Teaching:</b> 10 min</li>\n",
    "        <li><b>Exercises:</b> 0 min</li>\n",
    "    </ul>\n",
    "    <h3 style=\"padding: 0px; margin-top: 0px\">Questions</h3>\n",
    "    <ul>\n",
    "        <li>\"How do I specify arguments that don’t require input values?\"</li>\n",
    "        <li>\"How do I refer to runtime parameters?\"</li>\n",
    "    </ul>\n",
    "    <h3 style=\"padding: 0px; margin-top: 0px\">Objectives</h3>\n",
    "    <ul>\n",
    "        <li>\"Learn how to add additional options to a command.\"</li>\n",
    "        <li>\"Learn how to reference runtime parameters.\"</li>\n",
    "    </ul>\n",
    "</div>"
   ]
  },
  {
   "cell_type": "markdown",
   "metadata": {},
   "source": [
    "Sometimes tools require additional command line options that don’t correspond exactly to input parameters.\n",
    "\n",
    "In this example, we will wrap the Java compiler to compile a java source file to a class file. By default, “javac” will create the class files in the same directory as the source file. However, CWL input files (and the directories in which they appear) may be read-only, so we need to instruct “javac” to write the class file to the designated output directory instead."
   ]
  },
  {
   "cell_type": "code",
   "execution_count": null,
   "metadata": {},
   "outputs": [],
   "source": [
    "% snippet add\n",
    "cwlVersion: v1.0\n",
    "class: CommandLineTool\n",
    "id: \n",
    "label: Example trivial wrapper for Java 9 compiler\n",
    "hints:\n",
    "  DockerRequirement:\n",
    "    dockerPull: openjdk:9.0.1-11-slim\n",
    "baseCommand: javac\n",
    "arguments: [\"-d\", $(runtime.outdir)]\n",
    "inputs:\n",
    "  src:\n",
    "    type: File\n",
    "    inputBinding:\n",
    "      position: 1\n",
    "outputs:\n",
    "  classfile:\n",
    "    type: File\n",
    "    outputBinding:\n",
    "      glob: \"*.class\""
   ]
  },
  {
   "cell_type": "markdown",
   "metadata": {},
   "source": [
    "<div class=\"container\" style=\"background: #81c784; border-radius: 12px; padding: 8px\">\n",
    "    <h2 style=\"padding: 0px; margin-top: 0px\">Key Points</h2>\n",
    "    <ul>\n",
    "        <li>Containers can help to simplify management of the software requirements of a tool.</li>\n",
    "        <li>Specify a Docker image for a tool with DockerRequirement in the hints section.</li>\n",
    "    </ul>\n",
    "</div>"
   ]
  }
 ],
 "metadata": {
  "kernelspec": {
   "display_name": "Common Workflow Languages",
   "language": "cwl",
   "name": "cwlkernel"
  },
  "language_info": {
   "file_extension": ".cwl",
   "mimetype": "text/x-cwl",
   "name": "yaml"
  }
 },
 "nbformat": 4,
 "nbformat_minor": 4
}
