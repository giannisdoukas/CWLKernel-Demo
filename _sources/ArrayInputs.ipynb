{
 "cells": [
  {
   "cell_type": "markdown",
   "metadata": {},
   "source": [
    "# [Array Inputs](https://www.commonwl.org/user_guide/09-array-inputs/index.html)"
   ]
  },
  {
   "cell_type": "markdown",
   "metadata": {},
   "source": [
    "<div class=\"container\" style=\"background: #80deea; border-radius: 12px; padding: 8px; margin-bottom: 8px;\">\n",
    "    <h2 style=\"padding: 0px; margin-top: 0px\">Overview</h2>\n",
    "    <ul>\n",
    "        <li><b>Teaching:</b> 10 min</li>\n",
    "        <li><b>Exercises:</b> 0 min</li>\n",
    "    </ul>\n",
    "    <h3 style=\"padding: 0px; margin-top: 0px\">Questions</h3>\n",
    "    <ul>\n",
    "        <li>\"How do I provide multiple values for a single argument?\"</li>\n",
    "    </ul>\n",
    "    <h3 style=\"padding: 0px; margin-top: 0px\">Objectives</h3>\n",
    "    <ul>\n",
    "        <li>\"Learn how to provide parameter arrays as input to a tool.\"</li>\n",
    "        <li>\"Learn how to control the organization of array parameters on the command line.\"</li>\n",
    "    </ul>\n",
    "</div>"
   ]
  },
  {
   "cell_type": "markdown",
   "metadata": {},
   "source": [
    "It is easy to add arrays of input parameters represented to the command\n",
    "line. There are two ways to specify an array parameter. First is to provide\n",
    "`type` field with `type: array` and `items` defining the valid data types\n",
    "that may appear in the array. Alternatively, brackets `[]` may be added after\n",
    "the type name to indicate that input parameter is array of that type."
   ]
  },
  {
   "cell_type": "code",
   "execution_count": 2,
   "metadata": {},
   "outputs": [
    {
     "name": "stdout",
     "output_type": "stream",
     "text": [
      "tool 'inputs-demo-tool' registered"
     ]
    }
   ],
   "source": [
    "cwlVersion: v1.0\n",
    "class: CommandLineTool\n",
    "id: inputs-demo-tool\n",
    "inputs:\n",
    "  filesA:\n",
    "    type: string[]\n",
    "    inputBinding:\n",
    "      prefix: -A\n",
    "      position: 1\n",
    "\n",
    "  filesB:\n",
    "    type:\n",
    "      type: array\n",
    "      items: string\n",
    "      inputBinding:\n",
    "        prefix: -B=\n",
    "        separate: false\n",
    "    inputBinding:\n",
    "      position: 2\n",
    "\n",
    "  filesC:\n",
    "    type: string[]\n",
    "    inputBinding:\n",
    "      prefix: -C=\n",
    "      itemSeparator: \",\"\n",
    "      separate: false\n",
    "      position: 4\n",
    "\n",
    "outputs:\n",
    "  example_out:\n",
    "    type: stdout\n",
    "stdout: output.txt\n",
    "baseCommand: echo"
   ]
  },
  {
   "cell_type": "code",
   "execution_count": 3,
   "metadata": {},
   "outputs": [
    {
     "name": "stdout",
     "output_type": "stream",
     "text": [
      "Add data in memory"
     ]
    },
    {
     "data": {
      "application/json": {
       "example_out": {
        "_produced_by": "inputs-demo-tool",
        "basename": "output.txt",
        "checksum": "sha1$91038e29452bc77dcd21edef90a15075f3071540",
        "class": "File",
        "http://commonwl.org/cwltool#generation": 0,
        "id": "example_out",
        "location": "file:///private/tmp/CWLKERNEL_DATA/e514b323-745a-4434-a8eb-e2e7c2f1425b/runtime_data/output.txt",
        "nameext": ".txt",
        "nameroot": "output",
        "result_counter": 0,
        "size": 60
       }
      },
      "text/plain": [
       "{\"example_out\": {\"location\": \"file:///private/tmp/CWLKERNEL_DATA/e514b323-745a-4434-a8eb-e2e7c2f1425b/runtime_data/output.txt\", \"basename\": \"output.txt\", \"nameroot\": \"output\", \"nameext\": \".txt\", \"class\": \"File\", \"checksum\": \"sha1$91038e29452bc77dcd21edef90a15075f3071540\", \"size\": 60, \"http://commonwl.org/cwltool#generation\": 0, \"_produced_by\": \"inputs-demo-tool\", \"id\": \"example_out\", \"result_counter\": 0}}"
      ]
     },
     "metadata": {
      "application/json": {
       "expanded": false,
       "root": "root"
      }
     },
     "output_type": "display_data"
    }
   ],
   "source": [
    "% execute inputs-demo-tool\n",
    "filesA: [one, two, three]\n",
    "filesB: [four, five, six]\n",
    "filesC: [seven, eight, nine]"
   ]
  },
  {
   "cell_type": "code",
   "execution_count": 4,
   "metadata": {},
   "outputs": [
    {
     "name": "stdout",
     "output_type": "stream",
     "text": [
      "-A one two three -B=four -B=five -B=six -C=seven,eight,nine\n"
     ]
    }
   ],
   "source": [
    "% displayData example_out"
   ]
  },
  {
   "cell_type": "markdown",
   "metadata": {},
   "source": [
    "The `inputBinding` can appear either on the outer array parameter definition\n",
    "or the inner array element definition, and these produce different behavior when\n",
    "constructing the command line, as shown above.\n",
    "In addition, the `itemSeparator` field, if provided, specifies that array\n",
    "values should be concatenated into a single argument separated by the item\n",
    "separator string.\n",
    "\n",
    "Note that the arrays of inputs are specified inside square brackets `[]` in the yaml input. Arrays can also be expressed over multiple lines, where\n",
    "array values that are not defined with an associated key are marked by a leading `-`.\n",
    "This will be demonstrated in the next lesson\n",
    "and is discussed in more detail in the [YAML Guide](https://www.commonwl.org/user_guide/yaml/#arrays).\n",
    "You can specify arrays of arrays, arrays of records, and other complex types.\n"
   ]
  },
  {
   "cell_type": "markdown",
   "metadata": {},
   "source": [
    "<div class=\"container\" style=\"background: #81c784; border-radius: 12px; padding: 8px\">\n",
    "    <h2 style=\"padding: 0px; margin-top: 0px\">Key Points</h2>\n",
    "    <ul>\n",
    "        <li>\"Array parameter definitions are nested under the type field with type: array.\"</li>\n",
    "        <li>\"The appearance of array parameters on the command line differs depending on with the inputBinding field is provided in the description.\"</li>\n",
    "        <li>\"Use the itemSeparator field to control concatenatation of array parameters.\"</li>\n",
    "    </ul>\n",
    "</div>"
   ]
  }
 ],
 "metadata": {
  "kernelspec": {
   "display_name": "Common Workflow Languages",
   "language": "cwl",
   "name": "cwlkernel"
  },
  "language_info": {
   "file_extension": ".cwl",
   "mimetype": "text/x-cwl",
   "name": "yaml"
  }
 },
 "nbformat": 4,
 "nbformat_minor": 4
}
