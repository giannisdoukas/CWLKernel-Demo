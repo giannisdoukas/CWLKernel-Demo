{
 "cells": [
  {
   "cell_type": "markdown",
   "metadata": {},
   "source": [
    "# [Essential Input Parameters](https://www.commonwl.org/user_guide/03-input/index.html)"
   ]
  },
  {
   "cell_type": "markdown",
   "metadata": {},
   "source": [
    "```{admonition} Overview\n",
    "\n",
    "**Teaching**: 10 min\n",
    "\n",
    "**Exercises**: 0 min\n",
    "\n",
    "**Questions**\n",
    "\n",
    "* How can I pass arguments to a command?\n",
    "* How is the order of parameters defined for a command?\n",
    "\n",
    "**Objectives**\n",
    "\n",
    "* Learn how to describe and handle input parameters and files to a tool.\n",
    "\n",
    "```\n"
   ]
  },
  {
   "cell_type": "markdown",
   "metadata": {},
   "source": [
    "The `inputs` of a tool is a list of input parameters that control how to run the tool. Each parameter has an `id` for the name of parameter, and `type` describing what types of values are valid for that parameter.\n",
    "\n",
    "Available primitive types are *string, int, long, float, double*, and *null*; complex types are array and record; in addition there are special types *File*, *Directory* and *Any*.\n",
    "\n",
    "The following example demonstrates some input parameters with different types and appearing on the command line in different ways.\n",
    "\n",
    "First, create a tool called inp, containing the following:\n",
    "\n",
    "```{note}\n",
    "For the creation of the tool we will use the snippet magic command. With the snippet magic command we can build the document incremental by adding snippets.\n",
    "```"
   ]
  },
  {
   "cell_type": "code",
   "execution_count": 1,
   "metadata": {},
   "outputs": [
    {
     "data": {
      "application/json": {
       "baseCommand": "echo",
       "class": "CommandLineTool",
       "cwlVersion": "v1.0",
       "id": "inp",
       "inputs": null,
       "outputs": []
      },
      "text/plain": [
       "{\"id\": \"inp\", \"cwlVersion\": \"v1.0\", \"class\": \"CommandLineTool\", \"baseCommand\": \"echo\", \"outputs\": [], \"inputs\": null}"
      ]
     },
     "metadata": {
      "application/json": {
       "expanded": false,
       "root": "root"
      }
     },
     "output_type": "display_data"
    }
   ],
   "source": [
    "% snippet add\n",
    "id: inp\n",
    "cwlVersion: v1.0\n",
    "class: CommandLineTool\n",
    "baseCommand: echo\n",
    "outputs: []\n",
    "inputs:"
   ]
  },
  {
   "cell_type": "markdown",
   "metadata": {},
   "source": [
    "The field `inputBinding` is optional and indicates whether and how the input parameter should be appear on the tool’s command line. If `inputBinding` is missing, the parameter does not appear on the command line. Let’s look at each example in detail."
   ]
  },
  {
   "cell_type": "code",
   "execution_count": 2,
   "metadata": {},
   "outputs": [
    {
     "data": {
      "application/json": {
       "baseCommand": "echo",
       "class": "CommandLineTool",
       "cwlVersion": "v1.0",
       "id": "inp",
       "inputs": {
        "example_flag": {
         "inputBinding": {
          "position": 1,
          "prefix": "-f"
         },
         "type": "boolean"
        }
       },
       "outputs": []
      },
      "text/plain": [
       "{\"id\": \"inp\", \"cwlVersion\": \"v1.0\", \"class\": \"CommandLineTool\", \"baseCommand\": \"echo\", \"outputs\": [], \"inputs\": {\"example_flag\": {\"type\": \"boolean\", \"inputBinding\": {\"position\": 1, \"prefix\": \"-f\"}}}}"
      ]
     },
     "metadata": {
      "application/json": {
       "expanded": false,
       "root": "root"
      }
     },
     "output_type": "display_data"
    }
   ],
   "source": [
    "% snippet add\n",
    "    example_flag:\n",
    "      type: boolean\n",
    "      inputBinding:\n",
    "        position: 1\n",
    "        prefix: -f"
   ]
  },
  {
   "cell_type": "markdown",
   "metadata": {},
   "source": [
    "Boolean types are treated as a flag. If the input parameter “example_flag” is “true”, then `prefix` will be added to the command line. If false, no flag is added."
   ]
  },
  {
   "cell_type": "code",
   "execution_count": 3,
   "metadata": {},
   "outputs": [
    {
     "data": {
      "application/json": {
       "baseCommand": "echo",
       "class": "CommandLineTool",
       "cwlVersion": "v1.0",
       "id": "inp",
       "inputs": {
        "example_flag": {
         "inputBinding": {
          "position": 1,
          "prefix": "-f"
         },
         "type": "boolean"
        },
        "example_string": {
         "inputBinding": {
          "position": 3,
          "prefix": "--example-string"
         },
         "type": "string"
        }
       },
       "outputs": []
      },
      "text/plain": [
       "{\"id\": \"inp\", \"cwlVersion\": \"v1.0\", \"class\": \"CommandLineTool\", \"baseCommand\": \"echo\", \"outputs\": [], \"inputs\": {\"example_flag\": {\"type\": \"boolean\", \"inputBinding\": {\"position\": 1, \"prefix\": \"-f\"}}, \"example_string\": {\"type\": \"string\", \"inputBinding\": {\"position\": 3, \"prefix\": \"--example-string\"}}}}"
      ]
     },
     "metadata": {
      "application/json": {
       "expanded": false,
       "root": "root"
      }
     },
     "output_type": "display_data"
    }
   ],
   "source": [
    "% snippet add\n",
    "    example_string:\n",
    "      type: string\n",
    "      inputBinding:\n",
    "        position: 3\n",
    "        prefix: --example-string"
   ]
  },
  {
   "cell_type": "markdown",
   "metadata": {},
   "source": [
    "String types appear on the command line as literal values. The `prefix` is optional, if provided, it appears as a separate argument on the command line before the parameter . In the example above, this is rendered as `--example-string` hello."
   ]
  },
  {
   "cell_type": "code",
   "execution_count": 4,
   "metadata": {},
   "outputs": [
    {
     "data": {
      "application/json": {
       "baseCommand": "echo",
       "class": "CommandLineTool",
       "cwlVersion": "v1.0",
       "id": "inp",
       "inputs": {
        "example_flag": {
         "inputBinding": {
          "position": 1,
          "prefix": "-f"
         },
         "type": "boolean"
        },
        "example_int": {
         "inputBinding": {
          "position": 2,
          "prefix": "-i",
          "separate": false
         },
         "type": "int"
        },
        "example_string": {
         "inputBinding": {
          "position": 3,
          "prefix": "--example-string"
         },
         "type": "string"
        }
       },
       "outputs": []
      },
      "text/plain": [
       "{\"id\": \"inp\", \"cwlVersion\": \"v1.0\", \"class\": \"CommandLineTool\", \"baseCommand\": \"echo\", \"outputs\": [], \"inputs\": {\"example_flag\": {\"type\": \"boolean\", \"inputBinding\": {\"position\": 1, \"prefix\": \"-f\"}}, \"example_string\": {\"type\": \"string\", \"inputBinding\": {\"position\": 3, \"prefix\": \"--example-string\"}}, \"example_int\": {\"type\": \"int\", \"inputBinding\": {\"position\": 2, \"prefix\": \"-i\", \"separate\": false}}}}"
      ]
     },
     "metadata": {
      "application/json": {
       "expanded": false,
       "root": "root"
      }
     },
     "output_type": "display_data"
    }
   ],
   "source": [
    "% snippet add\n",
    "    example_int:\n",
    "      type: int\n",
    "      inputBinding:\n",
    "        position: 2\n",
    "        prefix: -i\n",
    "        separate: false"
   ]
  },
  {
   "cell_type": "markdown",
   "metadata": {},
   "source": [
    "Integer (and floating point) types appear on the command line with decimal text representation. When the option `separate` is false (the default value is true), the prefix and value are combined into a single argument. In the example above, this is rendered as -i42."
   ]
  },
  {
   "cell_type": "code",
   "execution_count": 5,
   "metadata": {},
   "outputs": [
    {
     "data": {
      "application/json": {
       "baseCommand": "echo",
       "class": "CommandLineTool",
       "cwlVersion": "v1.0",
       "id": "inp",
       "inputs": {
        "example_file": {
         "inputBinding": {
          "position": 4,
          "prefix": "--file=",
          "separate": false
         },
         "type": "File?"
        },
        "example_flag": {
         "inputBinding": {
          "position": 1,
          "prefix": "-f"
         },
         "type": "boolean"
        },
        "example_int": {
         "inputBinding": {
          "position": 2,
          "prefix": "-i",
          "separate": false
         },
         "type": "int"
        },
        "example_string": {
         "inputBinding": {
          "position": 3,
          "prefix": "--example-string"
         },
         "type": "string"
        }
       },
       "outputs": []
      },
      "text/plain": [
       "{\"id\": \"inp\", \"cwlVersion\": \"v1.0\", \"class\": \"CommandLineTool\", \"baseCommand\": \"echo\", \"outputs\": [], \"inputs\": {\"example_flag\": {\"type\": \"boolean\", \"inputBinding\": {\"position\": 1, \"prefix\": \"-f\"}}, \"example_string\": {\"type\": \"string\", \"inputBinding\": {\"position\": 3, \"prefix\": \"--example-string\"}}, \"example_int\": {\"type\": \"int\", \"inputBinding\": {\"position\": 2, \"prefix\": \"-i\", \"separate\": false}}, \"example_file\": {\"type\": \"File?\", \"inputBinding\": {\"prefix\": \"--file=\", \"separate\": false, \"position\": 4}}}}"
      ]
     },
     "metadata": {
      "application/json": {
       "expanded": false,
       "root": "root"
      }
     },
     "output_type": "display_data"
    }
   ],
   "source": [
    "% snippet add\n",
    "    example_file:\n",
    "      type: File?\n",
    "      inputBinding:\n",
    "        prefix: --file=\n",
    "        separate: false\n",
    "        position: 4"
   ]
  },
  {
   "cell_type": "markdown",
   "metadata": {},
   "source": [
    "File types appear on the command line as the path to the file. When the parameter type ends with a question mark `?` it indicates that the parameter is optional. In the example above, this is rendered as `--file=/tmp/random/path/whale.txt`. However, if the “example_file” parameter were not provided in the input, nothing would appear on the command line."
   ]
  },
  {
   "cell_type": "code",
   "execution_count": 6,
   "metadata": {},
   "outputs": [
    {
     "data": {
      "application/json": {
       "baseCommand": "echo",
       "class": "CommandLineTool",
       "cwlVersion": "v1.0",
       "id": "inp",
       "inputs": {
        "example_file": {
         "inputBinding": {
          "position": 4,
          "prefix": "--file=",
          "separate": false
         },
         "type": "File?"
        },
        "example_flag": {
         "inputBinding": {
          "position": 1,
          "prefix": "-f"
         },
         "type": "boolean"
        },
        "example_int": {
         "inputBinding": {
          "position": 2,
          "prefix": "-i",
          "separate": false
         },
         "type": "int"
        },
        "example_string": {
         "inputBinding": {
          "position": 3,
          "prefix": "--example-string"
         },
         "type": "string"
        }
       },
       "outputs": []
      },
      "text/plain": [
       "{\"id\": \"inp\", \"cwlVersion\": \"v1.0\", \"class\": \"CommandLineTool\", \"baseCommand\": \"echo\", \"outputs\": [], \"inputs\": {\"example_flag\": {\"type\": \"boolean\", \"inputBinding\": {\"position\": 1, \"prefix\": \"-f\"}}, \"example_string\": {\"type\": \"string\", \"inputBinding\": {\"position\": 3, \"prefix\": \"--example-string\"}}, \"example_int\": {\"type\": \"int\", \"inputBinding\": {\"position\": 2, \"prefix\": \"-i\", \"separate\": false}}, \"example_file\": {\"type\": \"File?\", \"inputBinding\": {\"prefix\": \"--file=\", \"separate\": false, \"position\": 4}}}}"
      ]
     },
     "metadata": {
      "application/json": {
       "expanded": false,
       "root": "root"
      }
     },
     "output_type": "display_data"
    }
   ],
   "source": [
    "% snippet build"
   ]
  },
  {
   "cell_type": "markdown",
   "metadata": {},
   "source": [
    "Input files are read-only. If you wish to update an input file, you must [first copy it to the output directory](Staging%20Input%20Files.ipynb).\n",
    "\n",
    "The value of `position` is used to determine where parameter should appear on the command line. Positions are relative to one another, not absolute. As a result, positions do not have to be sequential, three parameters with positions 1, 3, 5 will result in the same command line as 1, 2, 3. More than one parameter can have the same position (ties are broken using the parameter name), and the position field itself is optional. The default position is 0.\n",
    "\n",
    "The `baseCommand` field will always appear in the final command line before the parameters."
   ]
  },
  {
   "cell_type": "markdown",
   "metadata": {},
   "source": [
    "To execute the presented example we will create a dummy file. To do so we will use the `system` magic command to run the `touch` command."
   ]
  },
  {
   "cell_type": "code",
   "execution_count": 7,
   "metadata": {},
   "outputs": [
    {
     "name": "stdout",
     "output_type": "stream",
     "text": [
      "/private/tmp/CWLKERNEL_DATA/c7a74db4-1e49-46f3-aa52-668dffab83e3/runtime_data\n",
      "total 0\n",
      "drwxr-xr-x  3 dks  wheel   96 Jul 18 14:43 .\n",
      "drwxr-xr-x  7 dks  wheel  224 Jul 18 14:43 ..\n",
      "-rw-r--r--  1 dks  wheel    0 Jul 18 14:43 whale.txt\n"
     ]
    }
   ],
   "source": [
    "% system touch whale.txt\n",
    "pwd\n",
    "ls -la"
   ]
  },
  {
   "cell_type": "markdown",
   "metadata": {},
   "source": [
    "Then we use the execute magic command to execute the tool we made."
   ]
  },
  {
   "cell_type": "code",
   "execution_count": 8,
   "metadata": {},
   "outputs": [
    {
     "name": "stdout",
     "output_type": "stream",
     "text": [
      "Add data in memory"
     ]
    },
    {
     "data": {
      "application/json": {},
      "text/plain": [
       "{}"
      ]
     },
     "metadata": {
      "application/json": {
       "expanded": false,
       "root": "root"
      }
     },
     "output_type": "display_data"
    }
   ],
   "source": [
    "% execute inp\n",
    "example_flag: true\n",
    "example_string: hello\n",
    "example_int: 42\n",
    "example_file:\n",
    "  class: File\n",
    "  location: whale.txt"
   ]
  },
  {
   "cell_type": "markdown",
   "metadata": {},
   "source": [
    "```{admonition} Key Points\n",
    "\n",
    "* Inputs are described in the `inputs` section of a CWL description.\n",
    "* Files should be described with `class: File`.\n",
    "* You can use the `inputBinding` section to describe where and how an input appears in the command.\n",
    "\n",
    "```"
   ]
  }
 ],
 "metadata": {
  "kernelspec": {
   "display_name": "Common Workflow Languages",
   "language": "cwl",
   "name": "cwlkernel"
  },
  "language_info": {
   "file_extension": ".cwl",
   "mimetype": "text/x-cwl",
   "name": "yaml"
  }
 },
 "nbformat": 4,
 "nbformat_minor": 4
}
