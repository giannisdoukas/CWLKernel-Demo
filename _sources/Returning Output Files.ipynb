{
 "cells": [
  {
   "cell_type": "markdown",
   "metadata": {},
   "source": [
    "# [Returning Output Files](https://www.commonwl.org/user_guide/04-output/index.html)"
   ]
  },
  {
   "cell_type": "markdown",
   "metadata": {},
   "source": [
    "<div class=\"container\" style=\"background: #80deea44; border-radius: 12px; padding: 8px; margin-bottom: 8px;\">\n",
    "    <h2 style=\"padding: 0px; margin-top: 0px\">Overview</h2>\n",
    "    <ul>\n",
    "        <li><b>Teaching:</b> 10 min</li>\n",
    "        <li><b>Exercises:</b> 0 min</li>\n",
    "    </ul>\n",
    "    <h3 style=\"padding: 0px; margin-top: 0px\">Questions</h3>\n",
    "    <ul>\n",
    "        <li>\"Where does the output of a command go?\"</li>\n",
    "        <li>\"How can I save the output of a command?\"</li>\n",
    "    </ul>\n",
    "    <h3 style=\"padding: 0px; margin-top: 0px\">Objectives</h3>\n",
    "    <ul>\n",
    "        <li>\"Learn how to describe and handle outputs from a tool.\"</li>\n",
    "    </ul>\n",
    "</div>"
   ]
  },
  {
   "cell_type": "markdown",
   "metadata": {},
   "source": [
    "The `outputs` of a tool is a list of output parameters that should be\n",
    "returned after running the tool.  Each parameter has an `id` for the name\n",
    "of parameter, and `type` describing what types of values are valid for\n",
    "that parameter.\n",
    "\n",
    "When a tool runs under CWL, the starting working directory is the\n",
    "designated output directory.  The underlying tool or script must record\n",
    "its results in the form of files created in the output directory.  The\n",
    "output parameters returned by the CWL tool are either the output files\n",
    "themselves, or come from examining the content of those files.\n",
    "\n",
    "The following example demonstrates how to return a file that has been extracted from a tar file."
   ]
  },
  {
   "cell_type": "code",
   "execution_count": 1,
   "metadata": {},
   "outputs": [
    {
     "name": "stdout",
     "output_type": "stream",
     "text": [
      "total 16\n",
      "drwxr-xr-x  4 dks  wheel   128 Jul 21 13:12 .\n",
      "drwxr-xr-x  7 dks  wheel   224 Jul 21 13:12 ..\n",
      "-rw-r--r--  1 dks  wheel  2048 Jul 21 13:12 hello.tar\n",
      "-rw-r--r--  1 dks  wheel    12 Jul 21 13:12 hello.txt\n"
     ]
    },
    {
     "name": "stderr",
     "output_type": "stream",
     "text": [
      "a hello.txt\n"
     ]
    }
   ],
   "source": [
    "% system echo \"hello world\" > hello.txt \n",
    "tar -cvf hello.tar hello.txt \n",
    "ls -la"
   ]
  },
  {
   "cell_type": "markdown",
   "metadata": {},
   "source": [
    "```{tip} \n",
    "Passing mandatory arguments to the baseCommand\n",
    "\n",
    "In previous examples, the baseCommand was just a string, with any arguments passed as CWL inputs. Instead of a single string we can use an array of strings. The first element is the command to run, and any subsequent elements are mandatory command line arguments\n",
    "\n",
    "```"
   ]
  },
  {
   "cell_type": "code",
   "execution_count": 2,
   "metadata": {},
   "outputs": [
    {
     "data": {
      "application/json": {
       "baseCommand": [
        "tar",
        "--extract"
       ],
       "class": "CommandLineTool",
       "cwlVersion": "v1.0",
       "id": "tar-tool",
       "inputs": {
        "tarfile": {
         "inputBinding": {
          "prefix": "--file"
         },
         "type": "File"
        }
       }
      },
      "text/plain": [
       "{\"cwlVersion\": \"v1.0\", \"id\": \"tar-tool\", \"class\": \"CommandLineTool\", \"baseCommand\": [\"tar\", \"--extract\"], \"inputs\": {\"tarfile\": {\"type\": \"File\", \"inputBinding\": {\"prefix\": \"--file\"}}}}"
      ]
     },
     "metadata": {
      "application/json": {
       "expanded": false,
       "root": "root"
      }
     },
     "output_type": "display_data"
    }
   ],
   "source": [
    "% snippet add\n",
    "cwlVersion: v1.0\n",
    "id: tar-tool\n",
    "class: CommandLineTool\n",
    "baseCommand: [tar, --extract]\n",
    "inputs:\n",
    "  tarfile:\n",
    "    type: File\n",
    "    inputBinding:\n",
    "      prefix: --file"
   ]
  },
  {
   "cell_type": "markdown",
   "metadata": {},
   "source": [
    "The field `outputBinding` describes how to to set the value of each output parameter."
   ]
  },
  {
   "cell_type": "code",
   "execution_count": 3,
   "metadata": {},
   "outputs": [
    {
     "data": {
      "application/json": {
       "baseCommand": [
        "tar",
        "--extract"
       ],
       "class": "CommandLineTool",
       "cwlVersion": "v1.0",
       "id": "tar-tool",
       "inputs": {
        "tarfile": {
         "inputBinding": {
          "prefix": "--file"
         },
         "type": "File"
        }
       },
       "outputs": {
        "example_out": {
         "outputBinding": {
          "glob": "hello.txt"
         },
         "type": "File"
        }
       }
      },
      "text/plain": [
       "{\"cwlVersion\": \"v1.0\", \"id\": \"tar-tool\", \"class\": \"CommandLineTool\", \"baseCommand\": [\"tar\", \"--extract\"], \"inputs\": {\"tarfile\": {\"type\": \"File\", \"inputBinding\": {\"prefix\": \"--file\"}}}, \"outputs\": {\"example_out\": {\"type\": \"File\", \"outputBinding\": {\"glob\": \"hello.txt\"}}}}"
      ]
     },
     "metadata": {
      "application/json": {
       "expanded": false,
       "root": "root"
      }
     },
     "output_type": "display_data"
    }
   ],
   "source": [
    "% snippet build\n",
    "outputs:\n",
    "  example_out:\n",
    "    type: File\n",
    "    outputBinding:\n",
    "      glob: hello.txt"
   ]
  },
  {
   "cell_type": "markdown",
   "metadata": {},
   "source": [
    "The `glob` field consists of the name of a file in the output directory. If you don’t know name of the file in advance, you can use a wildcard pattern like `glob: '*.txt'`."
   ]
  },
  {
   "cell_type": "code",
   "execution_count": 4,
   "metadata": {},
   "outputs": [
    {
     "name": "stdout",
     "output_type": "stream",
     "text": [
      "Add data in memory"
     ]
    },
    {
     "data": {
      "application/json": {
       "example_out": {
        "_produced_by": "tar-tool",
        "basename": "hello.txt",
        "checksum": "sha1$22596363b3de40b06f981fb85d82312e8c0ed511",
        "class": "File",
        "http://commonwl.org/cwltool#generation": 0,
        "id": "example_out",
        "location": "file:///private/tmp/CWLKERNEL_DATA/974a612f-5a80-420d-a010-7ee50274e9a9/runtime_data/hello.txt",
        "nameext": ".txt",
        "nameroot": "hello",
        "result_counter": 0,
        "size": 12
       }
      },
      "text/plain": [
       "{\"example_out\": {\"location\": \"file:///private/tmp/CWLKERNEL_DATA/974a612f-5a80-420d-a010-7ee50274e9a9/runtime_data/hello.txt\", \"basename\": \"hello.txt\", \"nameroot\": \"hello\", \"nameext\": \".txt\", \"class\": \"File\", \"checksum\": \"sha1$22596363b3de40b06f981fb85d82312e8c0ed511\", \"size\": 12, \"http://commonwl.org/cwltool#generation\": 0, \"_produced_by\": \"tar-tool\", \"id\": \"example_out\", \"result_counter\": 0}}"
      ]
     },
     "metadata": {
      "application/json": {
       "expanded": false,
       "root": "root"
      }
     },
     "output_type": "display_data"
    }
   ],
   "source": [
    "% execute tar-tool\n",
    "tarfile:\n",
    "  class: File\n",
    "  location: hello.tar"
   ]
  },
  {
   "cell_type": "code",
   "execution_count": 5,
   "metadata": {},
   "outputs": [
    {
     "name": "stdout",
     "output_type": "stream",
     "text": [
      "hello world\n"
     ]
    }
   ],
   "source": [
    "% displayData example_out"
   ]
  },
  {
   "cell_type": "markdown",
   "metadata": {},
   "source": [
    "<div class=\"container\" style=\"background: #81c78444; border-radius: 12px; padding: 8px\">\n",
    "    <h2 style=\"padding: 0px; margin-top: 0px\">Key Points</h2>\n",
    "    <ul>\n",
    "        <li>\"Outputs are described in the outputs section of a CWL description.\"</li>\n",
    "        <li>\"The field outputBinding describes how to to set the value of each output parameter.\"</li>\n",
    "        <li>\"Wildcards are allowed in the glob field.\"</li>        \n",
    "    </ul>\n",
    "</div>"
   ]
  }
 ],
 "metadata": {
  "kernelspec": {
   "display_name": "Common Workflow Languages",
   "language": "cwl",
   "name": "cwlkernel"
  },
  "language_info": {
   "file_extension": ".cwl",
   "mimetype": "text/x-cwl",
   "name": "yaml"
  }
 },
 "nbformat": 4,
 "nbformat_minor": 4
}
