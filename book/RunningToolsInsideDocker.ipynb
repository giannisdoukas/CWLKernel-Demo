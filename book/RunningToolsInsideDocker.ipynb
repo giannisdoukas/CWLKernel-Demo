{
 "cells": [
  {
   "cell_type": "markdown",
   "metadata": {},
   "source": [
    "# [Running Tools Inside Docker](https://www.commonwl.org/user_guide/07-containers/index.html)"
   ]
  },
  {
   "cell_type": "markdown",
   "metadata": {},
   "source": [
    "<div class=\"container\" style=\"background-color: rgba(128, 222, 234, 0.265); border-radius: 12px; padding: 8px; margin-bottom: 8px;\">\n",
    "    <h2 style=\"padding: 0px; margin-top: 0px\">Overview</h2>\n",
    "    <ul>\n",
    "        <li><b>Teaching:</b> 10 min</li>\n",
    "        <li><b>Exercises:</b> 0 min</li>\n",
    "    </ul>\n",
    "    <h3 style=\"padding: 0px; margin-top: 0px\">Questions</h3>\n",
    "    <ul>\n",
    "        <li>\"How do I run tools inside a Docker container?\"</li>\n",
    "    </ul>\n",
    "    <h3 style=\"padding: 0px; margin-top: 0px\">Objectives</h3>\n",
    "    <ul>\n",
    "        <li>\"Learn how to invoke tools inside a complete controlled runtime.\"</li>\n",
    "    </ul>\n",
    "</div>"
   ]
  },
  {
   "cell_type": "markdown",
   "metadata": {},
   "source": [
    "[Docker](https://www.docker.com/) containers simplify software installation by providing a complete known-good runtime for software and its dependencies. However, containers are also purposefully isolated from the host system, so in order to run a tool inside a Docker container there is additional work to ensure that input files are available inside the container and output files can be recovered from the container. A CWL runner can perform this work automatically, allowing you to use Docker to simplify your software management while avoiding the complexity of invoking and managing Docker containers.\n",
    "\n",
    "One of the responsibilities of the CWL runner is to adjust the paths of input files to reflect the location where they appear inside the container.\n",
    "\n",
    "This example runs a simple Node.js script inside a Docker container which will then print “Hello World” to the standard output."
   ]
  },
  {
   "cell_type": "markdown",
   "metadata": {},
   "source": [
    "<div class=\"container\" style=\"background-color: rgba(183, 29, 29, 0.25); border-radius: 12px; padding: 8px; margin-bottom: 8px; width: 100%\">\n",
    "    <h4>Important Note</h4>\n",
    "<p>This tutorial cannot be executed within the <a href=\"https://mybinder.org/\" target=\"_blank\">mybinder</a>. Alternatively, you can download the <a href=\"https://repo2docker.readthedocs.io/\" target=\"_blank\">repo2docker</a> and run it locally.</p>\n",
    "</div>"
   ]
  },
  {
   "cell_type": "markdown",
   "metadata": {},
   "source": [
    "To begin with we define the input and the output of the CommandLineTool as we have already explained in the previous tutorials. "
   ]
  },
  {
   "cell_type": "code",
   "execution_count": 1,
   "metadata": {},
   "outputs": [
    {
     "data": {
      "application/json": {
       "class": "CommandLineTool",
       "cwlVersion": "v1.0",
       "id": "docker-example",
       "inputs": {
        "src": {
         "inputBinding": {
          "position": 1
         },
         "type": "File"
        }
       },
       "outputs": {
        "example_out": {
         "type": "stdout"
        }
       },
       "stdout": "output.txt"
      },
      "text/plain": [
       "{\"cwlVersion\": \"v1.0\", \"class\": \"CommandLineTool\", \"id\": \"docker-example\", \"inputs\": {\"src\": {\"type\": \"File\", \"inputBinding\": {\"position\": 1}}}, \"outputs\": {\"example_out\": {\"type\": \"stdout\"}}, \"stdout\": \"output.txt\"}"
      ]
     },
     "metadata": {
      "application/json": {
       "expanded": false,
       "root": "root"
      }
     },
     "output_type": "display_data"
    }
   ],
   "source": [
    "% snippet add\n",
    "cwlVersion: v1.0\n",
    "class: CommandLineTool\n",
    "id: docker-example\n",
    "inputs:\n",
    "  src:\n",
    "    type: File\n",
    "    inputBinding:\n",
    "      position: 1\n",
    "outputs:\n",
    "  example_out:\n",
    "    type: stdout\n",
    "stdout: output.txt"
   ]
  },
  {
   "cell_type": "markdown",
   "metadata": {},
   "source": [
    "Then we want to say to use a docker image for the execution of the baseCommand. `baseCommand: node` tells CWL that we will be running this command in a container. We \n",
    "then need to specify some `hints` for how to find the container we want.  In this case we list \n",
    "just our requirements for the docker container in `DockerRequirements`.  The `dockerPull:`\n",
    "parameter takes the same value that you would pass to a `docker pull` command. That is,\n",
    "the name of the container image (you can even specify the tag, which is good idea for \n",
    "best practises when using containers for reproducible research). In this case we have\n",
    "used a container called `node:slim`."
   ]
  },
  {
   "cell_type": "code",
   "execution_count": 2,
   "metadata": {},
   "outputs": [
    {
     "data": {
      "application/json": {
       "baseCommand": "node",
       "class": "CommandLineTool",
       "cwlVersion": "v1.0",
       "hints": {
        "DockerRequirement": {
         "dockerPull": "node:slim"
        }
       },
       "id": "docker-example",
       "inputs": {
        "src": {
         "inputBinding": {
          "position": 1
         },
         "type": "File"
        }
       },
       "outputs": {
        "example_out": {
         "type": "stdout"
        }
       },
       "stdout": "output.txt"
      },
      "text/plain": [
       "{\"cwlVersion\": \"v1.0\", \"class\": \"CommandLineTool\", \"id\": \"docker-example\", \"inputs\": {\"src\": {\"type\": \"File\", \"inputBinding\": {\"position\": 1}}}, \"outputs\": {\"example_out\": {\"type\": \"stdout\"}}, \"stdout\": \"output.txt\", \"baseCommand\": \"node\", \"hints\": {\"DockerRequirement\": {\"dockerPull\": \"node:slim\"}}}"
      ]
     },
     "metadata": {
      "application/json": {
       "expanded": false,
       "root": "root"
      }
     },
     "output_type": "display_data"
    }
   ],
   "source": [
    "% snippet build\n",
    "baseCommand: node\n",
    "hints:\n",
    "  DockerRequirement:\n",
    "    dockerPull: node:slim"
   ]
  },
  {
   "cell_type": "markdown",
   "metadata": {},
   "source": [
    "Provide a “hello.js” and use the `% execute` magic command providing the tool wrapper and the input object on the command line:"
   ]
  },
  {
   "cell_type": "code",
   "execution_count": 3,
   "metadata": {},
   "outputs": [
    {
     "name": "stdout",
     "output_type": "stream",
     "text": [
      "total 8\n",
      "drwxr-xr-x  3 dks  wheel   96 Jul 29 12:05 .\n",
      "drwxr-xr-x  7 dks  wheel  224 Jul 29 12:05 ..\n",
      "-rw-r--r--  1 dks  wheel   28 Jul 29 12:05 hello.js\n"
     ]
    }
   ],
   "source": [
    "% system echo \"console.log(\\\"Hello World\\\");\" > hello.js\n",
    "ls -la"
   ]
  },
  {
   "cell_type": "code",
   "execution_count": 4,
   "metadata": {},
   "outputs": [
    {
     "name": "stdout",
     "output_type": "stream",
     "text": [
      "Add data in memory"
     ]
    },
    {
     "data": {
      "application/json": {
       "example_out": {
        "_produced_by": "docker-example",
        "basename": "output.txt",
        "checksum": "sha1$648a6a6ffffdaa0badb23b8baf90b6168dd16b3a",
        "class": "File",
        "http://commonwl.org/cwltool#generation": 0,
        "id": "example_out",
        "location": "file:///private/tmp/CWLKERNEL_DATA/33e4676e-7dad-4708-bb8f-94d8cfe41d0c/runtime_data/output.txt",
        "nameext": ".txt",
        "nameroot": "output",
        "result_counter": 0,
        "size": 12
       }
      },
      "text/plain": [
       "{\"example_out\": {\"location\": \"file:///private/tmp/CWLKERNEL_DATA/33e4676e-7dad-4708-bb8f-94d8cfe41d0c/runtime_data/output.txt\", \"basename\": \"output.txt\", \"nameroot\": \"output\", \"nameext\": \".txt\", \"class\": \"File\", \"checksum\": \"sha1$648a6a6ffffdaa0badb23b8baf90b6168dd16b3a\", \"size\": 12, \"http://commonwl.org/cwltool#generation\": 0, \"_produced_by\": \"docker-example\", \"id\": \"example_out\", \"result_counter\": 0}}"
      ]
     },
     "metadata": {
      "application/json": {
       "expanded": false,
       "root": "root"
      }
     },
     "output_type": "display_data"
    }
   ],
   "source": [
    "% execute docker-example\n",
    "src:\n",
    "  class: File\n",
    "  location: hello.js"
   ]
  },
  {
   "cell_type": "code",
   "execution_count": 5,
   "metadata": {},
   "outputs": [
    {
     "data": {
      "text/html": [
       "<ul>\n",
       "\t<li><a href=\"file:///private/tmp/CWLKERNEL_DATA/33e4676e-7dad-4708-bb8f-94d8cfe41d0c/results/18ff9dfe-24e6-4c51-9cea-835efd793dc7/output.txt\" target=\"_empty\">/private/tmp/CWLKERNEL_DATA/33e4676e-7dad-4708-bb8f-94d8cfe41d0c/results/18ff9dfe-24e6-4c51-9cea-835efd793dc7/output.txt</a></li>\n",
       "</ul>"
      ]
     },
     "metadata": {
      "application/json": {
       "expanded": false,
       "root": "root"
      }
     },
     "output_type": "display_data"
    }
   ],
   "source": [
    "% data example_out"
   ]
  },
  {
   "cell_type": "code",
   "execution_count": 6,
   "metadata": {},
   "outputs": [
    {
     "name": "stdout",
     "output_type": "stream",
     "text": [
      "Hello World\n"
     ]
    }
   ],
   "source": [
    "% displayData example_out"
   ]
  },
  {
   "cell_type": "markdown",
   "metadata": {},
   "source": [
    "<div class=\"container\" style=\"background-color: rgba(129, 199, 132, 0.265); border-radius: 12px; padding: 8px\">\n",
    "    <h2 style=\"padding: 0px; margin-top: 0px\">Key Points</h2>\n",
    "    <ul>\n",
    "        <li>Containers can help to simplify management of the software requirements of a tool.</li>\n",
    "        <li>Specify a Docker image for a tool with DockerRequirement in the hints section.</li>\n",
    "    </ul>\n",
    "</div>"
   ]
  }
 ],
 "metadata": {
  "kernelspec": {
   "display_name": "Common Workflow Languages",
   "language": "cwl",
   "name": "cwlkernel"
  },
  "language_info": {
   "file_extension": ".cwl",
   "mimetype": "text/x-cwl",
   "name": "yaml"
  }
 },
 "nbformat": 4,
 "nbformat_minor": 4
}
