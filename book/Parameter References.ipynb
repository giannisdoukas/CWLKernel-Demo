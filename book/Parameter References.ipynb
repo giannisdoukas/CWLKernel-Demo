{
 "cells": [
  {
   "cell_type": "markdown",
   "metadata": {},
   "source": [
    "# [Parameter References](https://www.commonwl.org/user_guide/06-params/index.html)"
   ]
  },
  {
   "cell_type": "markdown",
   "metadata": {},
   "source": [
    "```{admonition} Overview\n",
    "\n",
    "**Teaching**: 10 min\n",
    "\n",
    "**Exercises**: 0 min\n",
    "\n",
    "**Questions**\n",
    "\n",
    "- How can I re-use parameter values in another location?\n",
    "\n",
    "**Objectives**\n",
    "\n",
    "- Learn how to make parameter references in descriptions.\n",
    "\n",
    "```"
   ]
  },
  {
   "cell_type": "markdown",
   "metadata": {},
   "source": [
    "In a previous example, we extracted a file using the “tar” program. However, that example was very limited because it assumed that the file we were interested in was called “hello.txt”, and this was written into the `.cwl` file. This is not the best way to do this, as the “hello.txt” filename may vary or be dependant on the input file(s) used. To avoid this we can specify the name of the file we want in the job parameters file (`.yml`). In this example, you will see how to reference the value of input parameters dynamically from other fields, which will allow us to then specify the name of the file to extract."
   ]
  },
  {
   "cell_type": "code",
   "execution_count": 1,
   "metadata": {},
   "outputs": [
    {
     "data": {
      "application/json": {
       "baseCommand": [
        "tar",
        "--extract"
       ],
       "class": "CommandLineTool",
       "cwlVersion": "v1.0",
       "id": "extract",
       "inputs": {
        "extractfile": {
         "inputBinding": {
          "position": 1
         },
         "type": "string"
        },
        "tarfile": {
         "inputBinding": {
          "prefix": "--file"
         },
         "type": "File"
        }
       }
      },
      "text/plain": [
       "{\"cwlVersion\": \"v1.0\", \"id\": \"extract\", \"class\": \"CommandLineTool\", \"baseCommand\": [\"tar\", \"--extract\"], \"inputs\": {\"tarfile\": {\"type\": \"File\", \"inputBinding\": {\"prefix\": \"--file\"}}, \"extractfile\": {\"type\": \"string\", \"inputBinding\": {\"position\": 1}}}}"
      ]
     },
     "metadata": {
      "application/json": {
       "expanded": false,
       "root": "root"
      }
     },
     "output_type": "display_data"
    }
   ],
   "source": [
    "% snippet add\n",
    "cwlVersion: v1.0\n",
    "id: extract\n",
    "class: CommandLineTool\n",
    "baseCommand: [tar, --extract]\n",
    "inputs:\n",
    "  tarfile:\n",
    "    type: File\n",
    "    inputBinding:\n",
    "      prefix: --file\n",
    "  extractfile:\n",
    "    type: string\n",
    "    inputBinding:\n",
    "      position: 1"
   ]
  },
  {
   "cell_type": "markdown",
   "metadata": {},
   "source": [
    "Certain fields permit parameter references which are enclosed in `$(...)`. These are evaluated and replaced with value being referenced."
   ]
  },
  {
   "cell_type": "code",
   "execution_count": 2,
   "metadata": {},
   "outputs": [
    {
     "data": {
      "application/json": {
       "baseCommand": [
        "tar",
        "--extract"
       ],
       "class": "CommandLineTool",
       "cwlVersion": "v1.0",
       "id": "extract",
       "inputs": {
        "extractfile": {
         "inputBinding": {
          "position": 1
         },
         "type": "string"
        },
        "tarfile": {
         "inputBinding": {
          "prefix": "--file"
         },
         "type": "File"
        }
       },
       "outputs": {
        "extracted_out": {
         "outputBinding": {
          "glob": "$(inputs.extractfile)"
         },
         "type": "File"
        }
       }
      },
      "text/plain": [
       "{\"cwlVersion\": \"v1.0\", \"id\": \"extract\", \"class\": \"CommandLineTool\", \"baseCommand\": [\"tar\", \"--extract\"], \"inputs\": {\"tarfile\": {\"type\": \"File\", \"inputBinding\": {\"prefix\": \"--file\"}}, \"extractfile\": {\"type\": \"string\", \"inputBinding\": {\"position\": 1}}}, \"outputs\": {\"extracted_out\": {\"type\": \"File\", \"outputBinding\": {\"glob\": \"$(inputs.extractfile)\"}}}}"
      ]
     },
     "metadata": {
      "application/json": {
       "expanded": false,
       "root": "root"
      }
     },
     "output_type": "display_data"
    }
   ],
   "source": [
    "% snippet build\n",
    "outputs:\n",
    "  extracted_out:\n",
    "    type: File\n",
    "    outputBinding:\n",
    "      glob: $(inputs.extractfile)"
   ]
  },
  {
   "cell_type": "markdown",
   "metadata": {},
   "source": [
    "References are written using a subset of Javascript syntax. In this example, `$(inputs.extractfile)`, `$(inputs[\"extractfile\"])`, and `$(inputs['extractfile'])` are equivalent.\n",
    "\n",
    "The value of the “inputs” variable is the input object provided when the CWL tool was invoked.\n",
    "\n",
    "Note that because `File` parameters are objects, to get the path to an input file you must reference the path field on a file object; to reference the path to the tar file in the above example you would write `$(inputs.tarfile.path)`."
   ]
  },
  {
   "cell_type": "code",
   "execution_count": 7,
   "metadata": {},
   "outputs": [
    {
     "name": "stderr",
     "output_type": "stream",
     "text": [
      "a goodbye.txt\n"
     ]
    }
   ],
   "source": [
    "% system \n",
    "rm -rf hello.tar\n",
    "echo \"goodbye!\" > goodbye.txt \n",
    "tar -cvf hello.tar goodbye.txt"
   ]
  },
  {
   "cell_type": "code",
   "execution_count": 8,
   "metadata": {},
   "outputs": [
    {
     "name": "stdout",
     "output_type": "stream",
     "text": [
      "Add data in memory"
     ]
    },
    {
     "data": {
      "application/json": {
       "extracted_out": {
        "_produced_by": "extract",
        "basename": "goodbye.txt",
        "checksum": "sha1$27fa3c3f049846ba241021c69cb1e377cabe4087",
        "class": "File",
        "http://commonwl.org/cwltool#generation": 0,
        "id": "extracted_out",
        "location": "file:///private/tmp/CWLKERNEL_DATA/20e6b5fd-33e5-4e2c-9ad7-e34b05cdfe99/runtime_data/goodbye.txt",
        "nameext": ".txt",
        "nameroot": "goodbye",
        "result_counter": 1,
        "size": 9
       }
      },
      "text/plain": [
       "{\"extracted_out\": {\"location\": \"file:///private/tmp/CWLKERNEL_DATA/20e6b5fd-33e5-4e2c-9ad7-e34b05cdfe99/runtime_data/goodbye.txt\", \"basename\": \"goodbye.txt\", \"nameroot\": \"goodbye\", \"nameext\": \".txt\", \"class\": \"File\", \"checksum\": \"sha1$27fa3c3f049846ba241021c69cb1e377cabe4087\", \"size\": 9, \"http://commonwl.org/cwltool#generation\": 0, \"_produced_by\": \"extract\", \"id\": \"extracted_out\", \"result_counter\": 1}}"
      ]
     },
     "metadata": {
      "application/json": {
       "expanded": false,
       "root": "root"
      }
     },
     "output_type": "display_data"
    }
   ],
   "source": [
    "% execute extract\n",
    "tarfile:\n",
    "  class: File\n",
    "  location: hello.tar\n",
    "extractfile: goodbye.txt"
   ]
  },
  {
   "cell_type": "code",
   "execution_count": 9,
   "metadata": {},
   "outputs": [
    {
     "name": "stdout",
     "output_type": "stream",
     "text": [
      "goodbye!\n"
     ]
    }
   ],
   "source": [
    "% displayData extracted_out"
   ]
  },
  {
   "cell_type": "markdown",
   "metadata": {},
   "source": [
    "> ## Where are parameter references allowed?\n",
    "> You can only use parameter references in certain fields.  These are:\n",
    ">\n",
    "> - From [`CommandLineTool`](http://www.commonwl.org/v1.0/CommandLineTool.html#CommandLineTool)\n",
    ">   - `arguments`\n",
    ">     - `valueFrom`\n",
    ">   - `stdin`\n",
    ">   - `stdout`\n",
    ">   - `stderr`\n",
    ">   - From [CommandInputParameter](http://www.commonwl.org/v1.0/CommandLineTool.html#CommandInputParameter)\n",
    ">     - `format`\n",
    ">     - `secondaryFiles`\n",
    ">     - From [`inputBinding`](http://www.commonwl.org/v1.0/CommandLineTool.html#CommandLineBinding)\n",
    ">       - `valueFrom`\n",
    ">   - From [CommandOutputParamater](http://www.commonwl.org/v1.0/CommandLineTool.html#CommandOutputParameter)\n",
    ">     - `format`\n",
    ">     - `secondaryFiles`\n",
    ">     - From [CommandOutputBinding](http://www.commonwl.org/v1.0/CommandLineTool.html#CommandOutputBinding)\n",
    ">       - `glob`\n",
    ">       - `outputEval`\n",
    "> - From `Workflow`\n",
    ">   - From [InputParameter](http://www.commonwl.org/v1.0/Workflow.html#InputParameter) and [WorkflowOutputParameter](http://www.commonwl.org/v1.0/Workflow.html#WorkflowOutputParameter)\n",
    ">     - `format`\n",
    ">     - `secondaryFiles`\n",
    ">     - From `steps`\n",
    ">       - From [WorkflowStepInput](http://www.commonwl.org/v1.0/Workflow.html#WorkflowStepInput)\n",
    ">         - `valueFrom`\n",
    "> - From [ExpressionTool](https://www.commonwl.org/v1.0/Workflow.html#ExpressionTool)\n",
    ">   - `expression`\n",
    ">   - From [InputParameter](http://www.commonwl.org/v1.0/Workflow.html#InputParameter) and [ExpressionToolOutputParameter](http://www.commonwl.org/v1.0/Workflow.html#ExpressionToolOutputParameter)\n",
    ">     - `format`\n",
    ">     - `secondaryFiles`\n",
    "> - From [`ResourceRequirement`](http://www.commonwl.org/v1.0/CommandLineTool.html#ResourceRequirement)\n",
    ">   - `coresMin`\n",
    ">   - `coresMax`\n",
    ">   - `ramMin`\n",
    ">   - `ramMax`\n",
    ">   - `tmpdirMin`\n",
    ">   - `tmpdirMax`\n",
    ">   - `outdirMin`\n",
    ">   - `outdirMax`\n",
    "> - From [`InitialWorkDirRequirement`](http://www.commonwl.org/v1.0/CommandLineTool.html#InitialWorkDirRequirement)\n",
    ">   - `listing`\n",
    ">   - in [Dirent](http://www.commonwl.org/v1.0/CommandLineTool.html#Dirent)\n",
    ">     - `entry`\n",
    ">     - `entryname`\n",
    "> - From `EnvVarRequirement`\n",
    ">   - From [EnvironmentDef](http://www.commonwl.org/v1.0/CommandLineTool.html#EnvironmentDef)\n",
    ">     - `envValue`"
   ]
  },
  {
   "cell_type": "markdown",
   "metadata": {},
   "source": [
    "```{admonition} Key Points\n",
    "\n",
    "* Some fields permit parameter references enclosed in $(...).\n",
    "\n",
    "* References are written using a subset of Javascript syntax.\n",
    "\n",
    "```"
   ]
  }
 ],
 "metadata": {
  "kernelspec": {
   "display_name": "Common Workflow Languages",
   "language": "cwl",
   "name": "cwlkernel"
  },
  "language_info": {
   "file_extension": ".cwl",
   "mimetype": "text/x-cwl",
   "name": "yaml"
  }
 },
 "nbformat": 4,
 "nbformat_minor": 4
}
