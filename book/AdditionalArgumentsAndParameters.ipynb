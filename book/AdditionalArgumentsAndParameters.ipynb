{
 "cells": [
  {
   "cell_type": "markdown",
   "metadata": {},
   "source": [
    "# [Additional Arguments and Parameters](https://www.commonwl.org/user_guide/08-arguments/index.html)"
   ]
  },
  {
   "cell_type": "markdown",
   "metadata": {},
   "source": [
    "<div class=\"container\" style=\"background-color: rgba(128, 222, 234, 0.265); border-radius: 12px; padding: 8px; margin-bottom: 8px;\">\n",
    "    <h2 style=\"padding: 0px; margin-top: 0px\">Overview</h2>\n",
    "    <ul>\n",
    "        <li><b>Teaching:</b> 10 min</li>\n",
    "        <li><b>Exercises:</b> 0 min</li>\n",
    "    </ul>\n",
    "    <h3 style=\"padding: 0px; margin-top: 0px\">Questions</h3>\n",
    "    <ul>\n",
    "        <li>\"How do I specify arguments that don’t require input values?\"</li>\n",
    "        <li>\"How do I refer to runtime parameters?\"</li>\n",
    "    </ul>\n",
    "    <h3 style=\"padding: 0px; margin-top: 0px\">Objectives</h3>\n",
    "    <ul>\n",
    "        <li>\"Learn how to add additional options to a command.\"</li>\n",
    "        <li>\"Learn how to reference runtime parameters.\"</li>\n",
    "    </ul>\n",
    "</div>"
   ]
  },
  {
   "cell_type": "markdown",
   "metadata": {},
   "source": [
    "Sometimes tools require additional command line options that don’t correspond exactly to input parameters.\n",
    "\n",
    "In this example, we will wrap the Java compiler to compile a java source file to a class file. By default, “javac” will create the class files in the same directory as the source file. However, CWL input files (and the directories in which they appear) may be read-only, so we need to instruct “javac” to write the class file to the designated output directory instead."
   ]
  },
  {
   "cell_type": "code",
   "execution_count": 1,
   "metadata": {},
   "outputs": [
    {
     "data": {
      "application/json": {
       "baseCommand": "javac",
       "class": "CommandLineTool",
       "cwlVersion": "v1.0",
       "hints": {
        "DockerRequirement": {
         "dockerPull": "openjdk:9.0.1-11-slim"
        }
       },
       "id": "args-demo-tool",
       "inputs": {
        "src": {
         "inputBinding": {
          "position": 1
         },
         "type": "File"
        }
       },
       "label": "Example trivial wrapper for Java 9 compiler",
       "outputs": {
        "classfile": {
         "outputBinding": {
          "glob": "*.class"
         },
         "type": "File"
        }
       }
      },
      "text/plain": [
       "{\"cwlVersion\": \"v1.0\", \"class\": \"CommandLineTool\", \"id\": \"args-demo-tool\", \"label\": \"Example trivial wrapper for Java 9 compiler\", \"hints\": {\"DockerRequirement\": {\"dockerPull\": \"openjdk:9.0.1-11-slim\"}}, \"baseCommand\": \"javac\", \"inputs\": {\"src\": {\"type\": \"File\", \"inputBinding\": {\"position\": 1}}}, \"outputs\": {\"classfile\": {\"type\": \"File\", \"outputBinding\": {\"glob\": \"*.class\"}}}}"
      ]
     },
     "metadata": {
      "application/json": {
       "expanded": false,
       "root": "root"
      }
     },
     "output_type": "display_data"
    }
   ],
   "source": [
    "% snippet add\n",
    "cwlVersion: v1.0\n",
    "class: CommandLineTool\n",
    "id: args-demo-tool\n",
    "label: Example trivial wrapper for Java 9 compiler\n",
    "hints:\n",
    "  DockerRequirement:\n",
    "    dockerPull: openjdk:9.0.1-11-slim\n",
    "baseCommand: javac\n",
    "inputs:\n",
    "  src:\n",
    "    type: File\n",
    "    inputBinding:\n",
    "      position: 1\n",
    "outputs:\n",
    "  classfile:\n",
    "    type: File\n",
    "    outputBinding:\n",
    "      glob: \"*.class\""
   ]
  },
  {
   "cell_type": "markdown",
   "metadata": {},
   "source": [
    "Here we use the `arguments` field to add an additional argument to the command line that isn’t tied to a specific input parameter."
   ]
  },
  {
   "cell_type": "code",
   "execution_count": 2,
   "metadata": {},
   "outputs": [
    {
     "data": {
      "application/json": {
       "arguments": [
        "-d",
        "$(runtime.outdir)"
       ],
       "baseCommand": "javac",
       "class": "CommandLineTool",
       "cwlVersion": "v1.0",
       "hints": {
        "DockerRequirement": {
         "dockerPull": "openjdk:9.0.1-11-slim"
        }
       },
       "id": "args-demo-tool",
       "inputs": {
        "src": {
         "inputBinding": {
          "position": 1
         },
         "type": "File"
        }
       },
       "label": "Example trivial wrapper for Java 9 compiler",
       "outputs": {
        "classfile": {
         "outputBinding": {
          "glob": "*.class"
         },
         "type": "File"
        }
       }
      },
      "text/plain": [
       "{\"cwlVersion\": \"v1.0\", \"class\": \"CommandLineTool\", \"id\": \"args-demo-tool\", \"label\": \"Example trivial wrapper for Java 9 compiler\", \"hints\": {\"DockerRequirement\": {\"dockerPull\": \"openjdk:9.0.1-11-slim\"}}, \"baseCommand\": \"javac\", \"inputs\": {\"src\": {\"type\": \"File\", \"inputBinding\": {\"position\": 1}}}, \"outputs\": {\"classfile\": {\"type\": \"File\", \"outputBinding\": {\"glob\": \"*.class\"}}}, \"arguments\": [\"-d\", \"$(runtime.outdir)\"]}"
      ]
     },
     "metadata": {
      "application/json": {
       "expanded": false,
       "root": "root"
      }
     },
     "output_type": "display_data"
    }
   ],
   "source": [
    "% snippet build\n",
    "arguments: [\"-d\", $(runtime.outdir)]"
   ]
  },
  {
   "cell_type": "code",
   "execution_count": 5,
   "metadata": {},
   "outputs": [
    {
     "name": "stdout",
     "output_type": "stream",
     "text": [
      "total 8\n",
      "drwxr-xr-x  3 dks  wheel   96 Jul 29 17:42 .\n",
      "drwxr-xr-x  7 dks  wheel  224 Jul 29 17:40 ..\n",
      "-rw-r--r--  1 dks  wheel   22 Jul 29 17:43 Hello.java\n",
      "public class Hello {}\n"
     ]
    }
   ],
   "source": [
    "% system echo \"public class Hello {}\" > Hello.java\n",
    "ls -la\n",
    "cat Hello.java"
   ]
  },
  {
   "cell_type": "code",
   "execution_count": 7,
   "metadata": {},
   "outputs": [
    {
     "name": "stdout",
     "output_type": "stream",
     "text": [
      "Add data in memory"
     ]
    },
    {
     "data": {
      "application/json": {
       "classfile": {
        "_produced_by": "args-demo-tool",
        "basename": "Hello.class",
        "checksum": "sha1$fdb876b40ad9ebc7fee873212e02d5940588642e",
        "class": "File",
        "http://commonwl.org/cwltool#generation": 0,
        "id": "classfile",
        "location": "file:///private/tmp/CWLKERNEL_DATA/5e0fbfbc-58bf-4408-8c66-483fcb4ad7a6/runtime_data/Hello.class",
        "nameext": ".class",
        "nameroot": "Hello",
        "result_counter": 0,
        "size": 184
       }
      },
      "text/plain": [
       "{\"classfile\": {\"location\": \"file:///private/tmp/CWLKERNEL_DATA/5e0fbfbc-58bf-4408-8c66-483fcb4ad7a6/runtime_data/Hello.class\", \"basename\": \"Hello.class\", \"nameroot\": \"Hello\", \"nameext\": \".class\", \"class\": \"File\", \"checksum\": \"sha1$fdb876b40ad9ebc7fee873212e02d5940588642e\", \"size\": 184, \"http://commonwl.org/cwltool#generation\": 0, \"_produced_by\": \"args-demo-tool\", \"id\": \"classfile\", \"result_counter\": 0}}"
      ]
     },
     "metadata": {
      "application/json": {
       "expanded": false,
       "root": "root"
      }
     },
     "output_type": "display_data"
    }
   ],
   "source": [
    "% execute args-demo-tool\n",
    "src:\n",
    "  class: File\n",
    "  location: Hello.java"
   ]
  },
  {
   "cell_type": "markdown",
   "metadata": {},
   "source": [
    "This example references a runtime parameter.  Runtime parameters provide\n",
    "information about the hardware or software environment when the tool is\n",
    "actually executed.  The `$(runtime.outdir)` parameter is the path to the\n",
    "designated output directory.  Other parameters include `$(runtime.tmpdir)`,\n",
    "`$(runtime.ram)`, `$(runtime.cores)`, `$(runtime.outdirSize)`, and\n",
    "`$(runtime.tmpdirSize)`.  See the [Runtime Environment](https://www.commonwl.org/v1.0/CommandLineTool.html#Runtime_environment) section of the\n",
    "CWL specification for details."
   ]
  },
  {
   "cell_type": "markdown",
   "metadata": {},
   "source": [
    "<div class=\"container\" style=\"background-color: rgba(129, 199, 132, 0.265); border-radius: 12px; padding: 8px\">\n",
    "    <h2 style=\"padding: 0px; margin-top: 0px\">Key Points</h2>\n",
    "    <ul>\n",
    "        <li>\"Use the `arguments` section to describe command line options that do not correspond exactly to input parameters.\"</li>\n",
    "        <li>\"Runtime parameters provide information about the environment when the tool is actually executed.\"</li>\n",
    "        <li>\"Runtime parameters are referred under the `runtime` namespace.\"</li>\n",
    "    </ul>\n",
    "</div>"
   ]
  }
 ],
 "metadata": {
  "kernelspec": {
   "display_name": "Common Workflow Languages",
   "language": "cwl",
   "name": "cwlkernel"
  },
  "language_info": {
   "file_extension": ".cwl",
   "mimetype": "text/x-cwl",
   "name": "yaml"
  }
 },
 "nbformat": 4,
 "nbformat_minor": 4
}
