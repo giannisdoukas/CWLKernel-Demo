{
 "cells": [
  {
   "cell_type": "markdown",
   "metadata": {},
   "source": [
    "# [First Example](https://www.commonwl.org/user_guide/02-1st-example/index.html)"
   ]
  },
  {
   "cell_type": "markdown",
   "metadata": {},
   "source": [
    "<div class=\"container\" style=\"background-color: rgba(128, 222, 234, 0.265); border-radius: 12px; padding: 8px; margin-bottom: 8px;\">\n",
    "    <h2 style=\"padding: 0px; margin-top: 0px\">Overview</h2>\n",
    "    <ul>\n",
    "        <li><b>Teaching:</b> 5 min</li>\n",
    "        <li><b>Exercises:</b> 0 min</li>\n",
    "    </ul>\n",
    "    <h3 style=\"padding: 0px; margin-top: 0px\">Questions</h3>\n",
    "    <ul>\n",
    "        <li>\"How do I write a CWL description of a simple command line tool?\"</li>\n",
    "    </ul>\n",
    "    <h3 style=\"padding: 0px; margin-top: 0px\">Objectives</h3>\n",
    "    <ul>\n",
    "        <li>\"Learn the basic structure of a CWL description.\"</li>\n",
    "    </ul>\n",
    "</div>"
   ]
  },
  {
   "cell_type": "markdown",
   "metadata": {},
   "source": [
    "The simplest “hello world” program. This accepts one input parameter, writes a message to the terminal or job log, and produces no permanent output. CWL documents are written in [JSON](https://www.json.org/) or [YAML](https://yaml.org/), or a mix of the two. We will use YAML throughout this guide. If you are not familiar with YAML, you may find it helpful to refer to [this quick tutorial for the subset of YAML used in CWL](https://www.commonwl.org/user_guide/yaml/)."
   ]
  },
  {
   "cell_type": "markdown",
   "metadata": {},
   "source": [
    "First, create a tool called 1st-tool. "
   ]
  },
  {
   "cell_type": "code",
   "execution_count": 1,
   "metadata": {},
   "outputs": [
    {
     "name": "stdout",
     "output_type": "stream",
     "text": [
      "tool '1st-tool' registered"
     ]
    }
   ],
   "source": [
    "id: 1st-tool\n",
    "cwlVersion: v1.0\n",
    "class: CommandLineTool\n",
    "baseCommand: echo\n",
    "inputs:\n",
    "  message:\n",
    "    type: string\n",
    "    inputBinding:\n",
    "      position: 1\n",
    "outputs: []"
   ]
  },
  {
   "cell_type": "markdown",
   "metadata": {},
   "source": [
    "Then we want to execute it. To do that we have to use the `execute` magic command and we define the input."
   ]
  },
  {
   "cell_type": "code",
   "execution_count": 4,
   "metadata": {},
   "outputs": [
    {
     "name": "stdout",
     "output_type": "stream",
     "text": [
      "Add data in memory"
     ]
    },
    {
     "data": {
      "application/json": {},
      "text/plain": [
       "{}"
      ]
     },
     "metadata": {
      "application/json": {
       "expanded": false,
       "root": "root"
      }
     },
     "output_type": "display_data"
    }
   ],
   "source": [
    "% execute 1st-tool\n",
    "message: Hello World!"
   ]
  },
  {
   "cell_type": "markdown",
   "metadata": {},
   "source": [
    "We see that the the tool was executed and returned an empty dictionary because our tool had no output. "
   ]
  },
  {
   "cell_type": "markdown",
   "metadata": {},
   "source": [
    "```{note}\n",
    "The CWLKernel has a set of commands which add extra functionality. We just saw the execute magic command. If we want to see the documentation of the `execute` magic command we use the `magics` and we give as a argument the magic commands that we want.\n",
    "```"
   ]
  },
  {
   "cell_type": "code",
   "execution_count": 2,
   "metadata": {},
   "outputs": [
    {
     "name": "stdout",
     "output_type": "stream",
     "text": [
      "Execute registered tool by id.\n",
      "% execute [tool-id]\n",
      "[yaml input ...]"
     ]
    }
   ],
   "source": [
    "% magics execute"
   ]
  },
  {
   "cell_type": "markdown",
   "metadata": {},
   "source": [
    "```{note}\n",
    "If we give no arguments we get all the magic commands which are installed.\n",
    "```"
   ]
  },
  {
   "cell_type": "code",
   "execution_count": 3,
   "metadata": {},
   "outputs": [
    {
     "name": "stdout",
     "output_type": "stream",
     "text": [
      "List of Available Magic commands\n",
      "\t- compile\n",
      "\t- data\n",
      "\t- displayData\n",
      "\t- displayDataCSV\n",
      "\t- displayDataImage\n",
      "\t- edit\n",
      "\t- execute\n",
      "\t- executeWithProvenance\n",
      "\t- githubImport\n",
      "\t- logs\n",
      "\t- magics\n",
      "\t- newWorkflow\n",
      "\t- newWorkflowAddInput\n",
      "\t- newWorkflowAddOutputSource\n",
      "\t- newWorkflowAddStep\n",
      "\t- newWorkflowAddStepIn\n",
      "\t- newWorkflowBuild\n",
      "\t- sampleCSV\n",
      "\t- scatter\n",
      "\t- snippet\n",
      "\t- system\n",
      "\t- view\n",
      "\t- viewTool"
     ]
    }
   ],
   "source": [
    "% magics"
   ]
  },
  {
   "cell_type": "markdown",
   "metadata": {},
   "source": [
    "Now we will explain the CWL files by braking down its contents.\n",
    "\n",
    "```yaml\n",
    "cwlVersion: v1.0\n",
    "class: CommandLineTool\n",
    "```\n",
    "\n",
    "The `cwlVersion` field indicates the version of the CWL spec used by the document. The `class` field indicates this document describes a command line tool.\n",
    "\n",
    "\n",
    "```yaml\n",
    "baseCommand: echo\n",
    "```\n",
    "\n",
    "The `baseCommand` provides the name of program that will actually run (`echo`). `echo` is a built-in program in the bash and C shells.\n",
    "\n",
    "\n",
    "```yaml\n",
    "inputs:\n",
    "  message:\n",
    "    type: string\n",
    "    inputBinding:\n",
    "      position: 1\n",
    "```\n",
    "\n",
    "The `inputs` section describes the inputs of the tool. This is a mapped list of input parameters (see the [YAML Guide](https://www.commonwl.org/user_guide/yaml/#maps) for more about the format) and each parameter includes an identifier, a data type, and optionally an `inputBinding`. The `inputBinding` describes how this input parameter should appear on the command line. In this example, the `position` field indicates where it should appear on the command line.\n",
    "\n",
    "```yaml\n",
    "outputs: []\n",
    "```\n",
    "\n",
    "This tool has no formal output, so the `outputs` section is an empty list."
   ]
  },
  {
   "cell_type": "markdown",
   "metadata": {},
   "source": [
    "<div class=\"container\" style=\"background-color: rgba(129, 199, 132, 0.265); border-radius: 12px; padding: 8px\">\n",
    "    <h2 style=\"padding: 0px; margin-top: 0px\">Key Points</h2>\n",
    "    <ul>\n",
    "        <li>\"CWL documents are written in YAML and/or JSON.\"</li>\n",
    "        <li>\"The command called is specified with baseCommand.\"</li>\n",
    "        <li>\"Each expected input is described in the inputs section.\"</li>\n",
    "        <li>\"Input values are specified in a separate YAML file.\"</li>\n",
    "        <li>\"The tool description and input files are provided as arguments to a CWL runner.\"</li>\n",
    "    </ul>\n",
    "</div>"
   ]
  }
 ],
 "metadata": {
  "kernelspec": {
   "display_name": "Common Workflow Languages",
   "language": "cwl",
   "name": "cwlkernel"
  },
  "language_info": {
   "file_extension": ".cwl",
   "mimetype": "text/x-cwl",
   "name": "yaml"
  }
 },
 "nbformat": 4,
 "nbformat_minor": 4
}
