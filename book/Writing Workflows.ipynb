{
 "cells": [
  {
   "cell_type": "markdown",
   "metadata": {},
   "source": [
    "# [Writing Workflows](https://www.commonwl.org/user_guide/21-1st-workflow/index.html)"
   ]
  },
  {
   "cell_type": "markdown",
   "metadata": {},
   "source": [
    "<div class=\"container\" style=\"background-color: rgba(128, 222, 234, 0.265); border-radius: 12px; padding: 8px; margin-bottom: 8px;\">\n",
    "    <h2 style=\"padding: 0px; margin-top: 0px\">Overview</h2>\n",
    "    <ul>\n",
    "        <li><b>Teaching:</b> 10 min</li>\n",
    "        <li><b>Exercises:</b> 0 min</li>\n",
    "    </ul>\n",
    "    <h3 style=\"padding: 0px; margin-top: 0px\">Questions</h3>\n",
    "    <ul>\n",
    "        <li>\"How do I connect tools together into a workflow?\"</li>\n",
    "    </ul>\n",
    "    <h3 style=\"padding: 0px; margin-top: 0px\">Objectives</h3>\n",
    "    <ul>\n",
    "        <li>\"Learn how to construct workflows from multiple CWL tool descriptions.\"</li>\n",
    "    </ul>\n",
    "</div>"
   ]
  },
  {
   "cell_type": "markdown",
   "metadata": {},
   "source": [
    "This workflow extracts a java source file from a tar file and then compiles it."
   ]
  },
  {
   "cell_type": "code",
   "execution_count": null,
   "metadata": {
    "jupyter": {
     "source_hidden": true
    }
   },
   "outputs": [],
   "source": [
    "cwlVersion: v1.0\n",
    "class: CommandLineTool\n",
    "id: tar-param\n",
    "baseCommand: [tar, --extract]\n",
    "inputs:\n",
    "  tarfile:\n",
    "    type: File\n",
    "    inputBinding:\n",
    "      prefix: --file\n",
    "  extractfile:\n",
    "    type: string\n",
    "    inputBinding:\n",
    "      position: 1\n",
    "outputs:\n",
    "  extracted_file:\n",
    "    type: File\n",
    "    outputBinding:\n",
    "      glob: $(inputs.extractfile)"
   ]
  },
  {
   "cell_type": "code",
   "execution_count": null,
   "metadata": {
    "jupyter": {
     "source_hidden": true
    }
   },
   "outputs": [],
   "source": [
    "cwlVersion: v1.0\n",
    "class: CommandLineTool\n",
    "id: arguments\n",
    "label: Example trivial wrapper for Java 9 compiler\n",
    "hints:\n",
    "  DockerRequirement:\n",
    "    dockerPull: openjdk:9.0.1-11-slim\n",
    "baseCommand: javac\n",
    "arguments: [\"-d\", $(runtime.outdir)]\n",
    "inputs:\n",
    "  src:\n",
    "    type: File\n",
    "    inputBinding:\n",
    "      position: 1\n",
    "outputs:\n",
    "  classfile:\n",
    "    type: File\n",
    "    outputBinding:\n",
    "      glob: \"*.class\""
   ]
  },
  {
   "cell_type": "code",
   "execution_count": null,
   "metadata": {},
   "outputs": [],
   "source": [
    "% snippet add\n",
    "cwlVersion: v1.0\n",
    "class: Workflow\n",
    "id: 1st-workflow"
   ]
  },
  {
   "cell_type": "markdown",
   "metadata": {},
   "source": [
    "The `cwlVersion` field indicates the version of the CWL spec used by the document. The `class` field indicates this document describes a workflow."
   ]
  },
  {
   "cell_type": "code",
   "execution_count": 4,
   "metadata": {},
   "outputs": [
    {
     "data": {
      "application/json": {
       "class": "Workflow",
       "cwlVersion": "v1.0",
       "id": "1st-workflow",
       "inputs": {
        "name_of_file_to_extract": {
         "type": "string"
        },
        "tarball": {
         "type": "File"
        }
       }
      },
      "text/plain": [
       "{\"cwlVersion\": \"v1.0\", \"class\": \"Workflow\", \"id\": \"1st-workflow\", \"inputs\": {\"tarball\": {\"type\": \"File\"}, \"name_of_file_to_extract\": {\"type\": \"string\"}}}"
      ]
     },
     "metadata": {
      "application/json": {
       "expanded": false,
       "root": "root"
      }
     },
     "output_type": "display_data"
    }
   ],
   "source": [
    "% snippet add\n",
    "inputs:\n",
    "  tarball: \n",
    "    type: File\n",
    "  name_of_file_to_extract: \n",
    "    type: string"
   ]
  },
  {
   "cell_type": "markdown",
   "metadata": {},
   "source": [
    "The `inputs` section describes the inputs of the workflow. This is a list of input parameters where each parameter consists of an identifier and a data type. These parameters can be used as sources for input to specific workflows steps."
   ]
  },
  {
   "cell_type": "code",
   "execution_count": 5,
   "metadata": {},
   "outputs": [
    {
     "data": {
      "application/json": {
       "class": "Workflow",
       "cwlVersion": "v1.0",
       "id": "1st-workflow",
       "inputs": {
        "name_of_file_to_extract": {
         "type": "string"
        },
        "tarball": {
         "type": "File"
        }
       },
       "outputs": {
        "compiled_class": {
         "outputSource": "compile/classfile",
         "type": "File"
        }
       }
      },
      "text/plain": [
       "{\"cwlVersion\": \"v1.0\", \"class\": \"Workflow\", \"id\": \"1st-workflow\", \"inputs\": {\"tarball\": {\"type\": \"File\"}, \"name_of_file_to_extract\": {\"type\": \"string\"}}, \"outputs\": {\"compiled_class\": {\"type\": \"File\", \"outputSource\": \"compile/classfile\"}}}"
      ]
     },
     "metadata": {
      "application/json": {
       "expanded": false,
       "root": "root"
      }
     },
     "output_type": "display_data"
    }
   ],
   "source": [
    "% snippet add\n",
    "outputs:\n",
    "  compiled_class:\n",
    "    type: File\n",
    "    outputSource: compile/classfile"
   ]
  },
  {
   "cell_type": "markdown",
   "metadata": {},
   "source": [
    "The `outputs` section describes the outputs of the workflow. This is a list of output parameters where each parameter consists of an identifier and a data type. The `outputSource` connects the output parameter `classfile` of the `compile` step to the workflow output parameter `compiled_class`."
   ]
  },
  {
   "cell_type": "code",
   "execution_count": 6,
   "metadata": {},
   "outputs": [
    {
     "data": {
      "application/json": {
       "class": "Workflow",
       "cwlVersion": "v1.0",
       "id": "1st-workflow",
       "inputs": {
        "name_of_file_to_extract": {
         "type": "string"
        },
        "tarball": {
         "type": "File"
        }
       },
       "outputs": {
        "compiled_class": {
         "outputSource": "compile/classfile",
         "type": "File"
        }
       },
       "steps": {
        "untar": {
         "in": {
          "extractfile": "name_of_file_to_extract",
          "tarfile": "tarball"
         },
         "out": [
          "extracted_file"
         ],
         "run": "tar-param.cwl"
        }
       }
      },
      "text/plain": [
       "{\"cwlVersion\": \"v1.0\", \"class\": \"Workflow\", \"id\": \"1st-workflow\", \"inputs\": {\"tarball\": {\"type\": \"File\"}, \"name_of_file_to_extract\": {\"type\": \"string\"}}, \"outputs\": {\"compiled_class\": {\"type\": \"File\", \"outputSource\": \"compile/classfile\"}}, \"steps\": {\"untar\": {\"run\": \"tar-param.cwl\", \"in\": {\"tarfile\": \"tarball\", \"extractfile\": \"name_of_file_to_extract\"}, \"out\": [\"extracted_file\"]}}}"
      ]
     },
     "metadata": {
      "application/json": {
       "expanded": false,
       "root": "root"
      }
     },
     "output_type": "display_data"
    }
   ],
   "source": [
    "% snippet add\n",
    "steps:\n",
    "  untar:\n",
    "    run: tar-param.cwl\n",
    "    in:\n",
    "      tarfile: tarball\n",
    "      extractfile: name_of_file_to_extract\n",
    "    out: [extracted_file]"
   ]
  },
  {
   "cell_type": "markdown",
   "metadata": {},
   "source": [
    "The `steps` section describes the actual steps of the workflow. In this example, the first step extracts a file from a tar file, and the second step compiles the file from the first step using the java compiler. Workflow steps are not necessarily run in the order they are listed, instead the order is determined by the dependencies between steps (using `source`). In addition, workflow steps which do not depend on one another may run in parallel.\n",
    "\n",
    "The first step, `untar` runs `tar-param.cwl` (described previously in [Parameter references](Parameter%20References.ipynb). This tool has two input parameters, `tarfile` and `extractfile` and one output parameter `extracted_file`.\n",
    "\n",
    "The in section of the workflow step connects these two input parameters to the inputs of the workflow, `tarball` and `name_of_file_to_extract` using `source`. This means that when the workflow step is executed, the values assigned to `tarball` and `name_of_file_to_extract` will be used for the parameters `tarfile` and `extractfile` in order to run the tool.\n",
    "\n",
    "The `out` section of the workflow step lists the output parameters that are expected from the tool."
   ]
  },
  {
   "cell_type": "code",
   "execution_count": 7,
   "metadata": {},
   "outputs": [
    {
     "data": {
      "application/json": {
       "class": "Workflow",
       "cwlVersion": "v1.0",
       "id": "1st-workflow",
       "inputs": {
        "name_of_file_to_extract": {
         "type": "string"
        },
        "tarball": {
         "type": "File"
        }
       },
       "outputs": {
        "compiled_class": {
         "outputSource": "compile/classfile",
         "type": "File"
        }
       },
       "steps": {
        "compile": {
         "in": {
          "src": "untar/extracted_file"
         },
         "out": [
          "classfile"
         ],
         "run": "arguments.cwl"
        },
        "untar": {
         "in": {
          "extractfile": "name_of_file_to_extract",
          "tarfile": "tarball"
         },
         "out": [
          "extracted_file"
         ],
         "run": "tar-param.cwl"
        }
       }
      },
      "text/plain": [
       "{\"cwlVersion\": \"v1.0\", \"class\": \"Workflow\", \"id\": \"1st-workflow\", \"inputs\": {\"tarball\": {\"type\": \"File\"}, \"name_of_file_to_extract\": {\"type\": \"string\"}}, \"outputs\": {\"compiled_class\": {\"type\": \"File\", \"outputSource\": \"compile/classfile\"}}, \"steps\": {\"untar\": {\"run\": \"tar-param.cwl\", \"in\": {\"tarfile\": \"tarball\", \"extractfile\": \"name_of_file_to_extract\"}, \"out\": [\"extracted_file\"]}, \"compile\": {\"run\": \"arguments.cwl\", \"in\": {\"src\": \"untar/extracted_file\"}, \"out\": [\"classfile\"]}}}"
      ]
     },
     "metadata": {
      "application/json": {
       "expanded": false,
       "root": "root"
      }
     },
     "output_type": "display_data"
    }
   ],
   "source": [
    "% snippet build\n",
    "  compile:\n",
    "    run: arguments.cwl\n",
    "    in:\n",
    "      src: untar/extracted_file\n",
    "    out: [classfile]"
   ]
  },
  {
   "cell_type": "markdown",
   "metadata": {},
   "source": [
    "The second step `compile` depends on the results from the first step by connecting the input parameter `src` to the output parameter of `untar` using `untar/extracted_file`. The output of this step `classfile` is connected to the `outputs` section for the Workflow, described above."
   ]
  },
  {
   "cell_type": "code",
   "execution_count": 8,
   "metadata": {},
   "outputs": [
    {
     "data": {
      "text/html": [
       "<div style=\"max-width: 100%;\"><svg xmlns=\"http://www.w3.org/2000/svg\" width=\"420pt\" height=\"320pt\" viewBox=\"0.00 0.00 420.00 320.00\">\n",
       "<g id=\"graph0\" class=\"graph\" transform=\"scale(1 1) rotate(0) translate(4 316)\">\n",
       "<title>G</title>\n",
       "<polygon fill=\"#eeeeee\" stroke=\"transparent\" points=\"-4,4 -4,-316 416,-316 416,4 -4,4\"></polygon>\n",
       "<g id=\"clust1\" class=\"cluster\">\n",
       "<title>cluster_inputs</title>\n",
       "<polygon fill=\"#eeeeee\" stroke=\"black\" stroke-dasharray=\"5,2\" points=\"8,-229 8,-304 404,-304 404,-229 8,-229\"></polygon>\n",
       "<text text-anchor=\"middle\" x=\"348.92\" y=\"-235.8\" font-family=\"Times,serif\" font-size=\"14.00\">Workflow Inputs</text>\n",
       "</g>\n",
       "<g id=\"clust2\" class=\"cluster\">\n",
       "<title>cluster_outputs</title>\n",
       "<polygon fill=\"#eeeeee\" stroke=\"black\" stroke-dasharray=\"5,2\" points=\"121,-8 121,-83 317,-83 317,-8 121,-8\"></polygon>\n",
       "<text text-anchor=\"middle\" x=\"257.25\" y=\"-14.8\" font-family=\"Times,serif\" font-size=\"14.00\">Workflow Outputs</text>\n",
       "</g>\n",
       "\n",
       "<g id=\"node1\" class=\"node\">\n",
       "<title>file:///private/tmp/CWLKERNEL_DATA/b8478e7e-bd68-48a4-a304-97d9b3597366/repo/1st-workflow.cwl#1st-workflow/untar</title>\n",
       "<polygon fill=\"lightgoldenrodyellow\" stroke=\"black\" points=\"157.34,-184.5 157.34,-220.5 280.66,-220.5 280.66,-184.5 157.34,-184.5\"></polygon>\n",
       "<text text-anchor=\"middle\" x=\"219\" y=\"-198.3\" font-family=\"Times,serif\" font-size=\"14.00\">1st-workflow/untar</text>\n",
       "</g>\n",
       "\n",
       "<g id=\"node2\" class=\"node\">\n",
       "<title>file:///private/tmp/CWLKERNEL_DATA/b8478e7e-bd68-48a4-a304-97d9b3597366/repo/1st-workflow.cwl#1st-workflow/compile</title>\n",
       "<polygon fill=\"lightgoldenrodyellow\" stroke=\"black\" points=\"86.99,-111.5 86.99,-147.5 351.01,-147.5 351.01,-111.5 86.99,-111.5\"></polygon>\n",
       "<text text-anchor=\"middle\" x=\"219\" y=\"-125.3\" font-family=\"Times,serif\" font-size=\"14.00\">Example trivial wrapper for Java 9 compiler</text>\n",
       "</g>\n",
       "\n",
       "<g id=\"edge1\" class=\"edge\">\n",
       "<title>file:///private/tmp/CWLKERNEL_DATA/b8478e7e-bd68-48a4-a304-97d9b3597366/repo/1st-workflow.cwl#1st-workflow/untar-&gt;file:///private/tmp/CWLKERNEL_DATA/b8478e7e-bd68-48a4-a304-97d9b3597366/repo/1st-workflow.cwl#1st-workflow/compile</title>\n",
       "<path fill=\"none\" stroke=\"black\" d=\"M219,-184.31C219,-176.29 219,-166.55 219,-157.57\"></path>\n",
       "<polygon fill=\"black\" stroke=\"black\" points=\"222.5,-157.53 219,-147.53 215.5,-157.53 222.5,-157.53\"></polygon>\n",
       "</g>\n",
       "\n",
       "<g id=\"node5\" class=\"node\">\n",
       "<title>file:///private/tmp/CWLKERNEL_DATA/b8478e7e-bd68-48a4-a304-97d9b3597366/repo/1st-workflow.cwl#1st-workflow/compiled_class</title>\n",
       "<polygon fill=\"#94ddf4\" stroke=\"black\" points=\"128.57,-38.5 128.57,-74.5 309.43,-74.5 309.43,-38.5 128.57,-38.5\"></polygon>\n",
       "<text text-anchor=\"middle\" x=\"219\" y=\"-52.3\" font-family=\"Times,serif\" font-size=\"14.00\">1st-workflow/compiled_class</text>\n",
       "</g>\n",
       "\n",
       "<g id=\"edge4\" class=\"edge\">\n",
       "<title>file:///private/tmp/CWLKERNEL_DATA/b8478e7e-bd68-48a4-a304-97d9b3597366/repo/1st-workflow.cwl#1st-workflow/compile-&gt;file:///private/tmp/CWLKERNEL_DATA/b8478e7e-bd68-48a4-a304-97d9b3597366/repo/1st-workflow.cwl#1st-workflow/compiled_class</title>\n",
       "<path fill=\"none\" stroke=\"black\" d=\"M219,-111.31C219,-103.29 219,-93.55 219,-84.57\"></path>\n",
       "<polygon fill=\"black\" stroke=\"black\" points=\"222.5,-84.53 219,-74.53 215.5,-84.53 222.5,-84.53\"></polygon>\n",
       "</g>\n",
       "\n",
       "<g id=\"node3\" class=\"node\">\n",
       "<title>file:///private/tmp/CWLKERNEL_DATA/b8478e7e-bd68-48a4-a304-97d9b3597366/repo/1st-workflow.cwl#1st-workflow/tarball</title>\n",
       "<polygon fill=\"#94ddf4\" stroke=\"black\" points=\"265.84,-259.5 265.84,-295.5 396.16,-295.5 396.16,-259.5 265.84,-259.5\"></polygon>\n",
       "<text text-anchor=\"middle\" x=\"331\" y=\"-273.3\" font-family=\"Times,serif\" font-size=\"14.00\">1st-workflow/tarball</text>\n",
       "</g>\n",
       "\n",
       "<g id=\"edge2\" class=\"edge\">\n",
       "<title>file:///private/tmp/CWLKERNEL_DATA/b8478e7e-bd68-48a4-a304-97d9b3597366/repo/1st-workflow.cwl#1st-workflow/tarball-&gt;file:///private/tmp/CWLKERNEL_DATA/b8478e7e-bd68-48a4-a304-97d9b3597366/repo/1st-workflow.cwl#1st-workflow/untar</title>\n",
       "<path fill=\"none\" stroke=\"black\" d=\"M304.74,-259.38C289.58,-249.5 270.31,-236.94 253.88,-226.24\"></path>\n",
       "<polygon fill=\"black\" stroke=\"black\" points=\"255.38,-223.04 245.09,-220.51 251.56,-228.9 255.38,-223.04\"></polygon>\n",
       "</g>\n",
       "\n",
       "<g id=\"node4\" class=\"node\">\n",
       "<title>file:///private/tmp/CWLKERNEL_DATA/b8478e7e-bd68-48a4-a304-97d9b3597366/repo/1st-workflow.cwl#1st-workflow/name_of_file_to_extract</title>\n",
       "<polygon fill=\"#94ddf4\" stroke=\"black\" points=\"16.3,-259.5 16.3,-295.5 247.7,-295.5 247.7,-259.5 16.3,-259.5\"></polygon>\n",
       "<text text-anchor=\"middle\" x=\"132\" y=\"-273.3\" font-family=\"Times,serif\" font-size=\"14.00\">1st-workflow/name_of_file_to_extract</text>\n",
       "</g>\n",
       "\n",
       "<g id=\"edge3\" class=\"edge\">\n",
       "<title>file:///private/tmp/CWLKERNEL_DATA/b8478e7e-bd68-48a4-a304-97d9b3597366/repo/1st-workflow.cwl#1st-workflow/name_of_file_to_extract-&gt;file:///private/tmp/CWLKERNEL_DATA/b8478e7e-bd68-48a4-a304-97d9b3597366/repo/1st-workflow.cwl#1st-workflow/untar</title>\n",
       "<path fill=\"none\" stroke=\"black\" d=\"M152.62,-259.2C163.99,-249.65 178.29,-237.66 190.7,-227.25\"></path>\n",
       "<polygon fill=\"black\" stroke=\"black\" points=\"193.12,-229.78 198.53,-220.68 188.62,-224.42 193.12,-229.78\"></polygon>\n",
       "</g>\n",
       "</g>\n",
       "</svg></div>"
      ],
      "text/plain": [
       "<div style=\"max-width: 100%;\"><svg xmlns=\"http://www.w3.org/2000/svg\" width=\"420pt\" height=\"320pt\" viewBox=\"0.00 0.00 420.00 320.00\">\n",
       "<g id=\"graph0\" class=\"graph\" transform=\"scale(1 1) rotate(0) translate(4 316)\">\n",
       "<title>G</title>\n",
       "<polygon fill=\"#eeeeee\" stroke=\"transparent\" points=\"-4,4 -4,-316 416,-316 416,4 -4,4\"></polygon>\n",
       "<g id=\"clust1\" class=\"cluster\">\n",
       "<title>cluster_inputs</title>\n",
       "<polygon fill=\"#eeeeee\" stroke=\"black\" stroke-dasharray=\"5,2\" points=\"8,-229 8,-304 404,-304 404,-229 8,-229\"></polygon>\n",
       "<text text-anchor=\"middle\" x=\"348.92\" y=\"-235.8\" font-family=\"Times,serif\" font-size=\"14.00\">Workflow Inputs</text>\n",
       "</g>\n",
       "<g id=\"clust2\" class=\"cluster\">\n",
       "<title>cluster_outputs</title>\n",
       "<polygon fill=\"#eeeeee\" stroke=\"black\" stroke-dasharray=\"5,2\" points=\"121,-8 121,-83 317,-83 317,-8 121,-8\"></polygon>\n",
       "<text text-anchor=\"middle\" x=\"257.25\" y=\"-14.8\" font-family=\"Times,serif\" font-size=\"14.00\">Workflow Outputs</text>\n",
       "</g>\n",
       "\n",
       "<g id=\"node1\" class=\"node\">\n",
       "<title>file:///private/tmp/CWLKERNEL_DATA/b8478e7e-bd68-48a4-a304-97d9b3597366/repo/1st-workflow.cwl#1st-workflow/untar</title>\n",
       "<polygon fill=\"lightgoldenrodyellow\" stroke=\"black\" points=\"157.34,-184.5 157.34,-220.5 280.66,-220.5 280.66,-184.5 157.34,-184.5\"></polygon>\n",
       "<text text-anchor=\"middle\" x=\"219\" y=\"-198.3\" font-family=\"Times,serif\" font-size=\"14.00\">1st-workflow/untar</text>\n",
       "</g>\n",
       "\n",
       "<g id=\"node2\" class=\"node\">\n",
       "<title>file:///private/tmp/CWLKERNEL_DATA/b8478e7e-bd68-48a4-a304-97d9b3597366/repo/1st-workflow.cwl#1st-workflow/compile</title>\n",
       "<polygon fill=\"lightgoldenrodyellow\" stroke=\"black\" points=\"86.99,-111.5 86.99,-147.5 351.01,-147.5 351.01,-111.5 86.99,-111.5\"></polygon>\n",
       "<text text-anchor=\"middle\" x=\"219\" y=\"-125.3\" font-family=\"Times,serif\" font-size=\"14.00\">Example trivial wrapper for Java 9 compiler</text>\n",
       "</g>\n",
       "\n",
       "<g id=\"edge1\" class=\"edge\">\n",
       "<title>file:///private/tmp/CWLKERNEL_DATA/b8478e7e-bd68-48a4-a304-97d9b3597366/repo/1st-workflow.cwl#1st-workflow/untar-&gt;file:///private/tmp/CWLKERNEL_DATA/b8478e7e-bd68-48a4-a304-97d9b3597366/repo/1st-workflow.cwl#1st-workflow/compile</title>\n",
       "<path fill=\"none\" stroke=\"black\" d=\"M219,-184.31C219,-176.29 219,-166.55 219,-157.57\"></path>\n",
       "<polygon fill=\"black\" stroke=\"black\" points=\"222.5,-157.53 219,-147.53 215.5,-157.53 222.5,-157.53\"></polygon>\n",
       "</g>\n",
       "\n",
       "<g id=\"node5\" class=\"node\">\n",
       "<title>file:///private/tmp/CWLKERNEL_DATA/b8478e7e-bd68-48a4-a304-97d9b3597366/repo/1st-workflow.cwl#1st-workflow/compiled_class</title>\n",
       "<polygon fill=\"#94ddf4\" stroke=\"black\" points=\"128.57,-38.5 128.57,-74.5 309.43,-74.5 309.43,-38.5 128.57,-38.5\"></polygon>\n",
       "<text text-anchor=\"middle\" x=\"219\" y=\"-52.3\" font-family=\"Times,serif\" font-size=\"14.00\">1st-workflow/compiled_class</text>\n",
       "</g>\n",
       "\n",
       "<g id=\"edge4\" class=\"edge\">\n",
       "<title>file:///private/tmp/CWLKERNEL_DATA/b8478e7e-bd68-48a4-a304-97d9b3597366/repo/1st-workflow.cwl#1st-workflow/compile-&gt;file:///private/tmp/CWLKERNEL_DATA/b8478e7e-bd68-48a4-a304-97d9b3597366/repo/1st-workflow.cwl#1st-workflow/compiled_class</title>\n",
       "<path fill=\"none\" stroke=\"black\" d=\"M219,-111.31C219,-103.29 219,-93.55 219,-84.57\"></path>\n",
       "<polygon fill=\"black\" stroke=\"black\" points=\"222.5,-84.53 219,-74.53 215.5,-84.53 222.5,-84.53\"></polygon>\n",
       "</g>\n",
       "\n",
       "<g id=\"node3\" class=\"node\">\n",
       "<title>file:///private/tmp/CWLKERNEL_DATA/b8478e7e-bd68-48a4-a304-97d9b3597366/repo/1st-workflow.cwl#1st-workflow/tarball</title>\n",
       "<polygon fill=\"#94ddf4\" stroke=\"black\" points=\"265.84,-259.5 265.84,-295.5 396.16,-295.5 396.16,-259.5 265.84,-259.5\"></polygon>\n",
       "<text text-anchor=\"middle\" x=\"331\" y=\"-273.3\" font-family=\"Times,serif\" font-size=\"14.00\">1st-workflow/tarball</text>\n",
       "</g>\n",
       "\n",
       "<g id=\"edge2\" class=\"edge\">\n",
       "<title>file:///private/tmp/CWLKERNEL_DATA/b8478e7e-bd68-48a4-a304-97d9b3597366/repo/1st-workflow.cwl#1st-workflow/tarball-&gt;file:///private/tmp/CWLKERNEL_DATA/b8478e7e-bd68-48a4-a304-97d9b3597366/repo/1st-workflow.cwl#1st-workflow/untar</title>\n",
       "<path fill=\"none\" stroke=\"black\" d=\"M304.74,-259.38C289.58,-249.5 270.31,-236.94 253.88,-226.24\"></path>\n",
       "<polygon fill=\"black\" stroke=\"black\" points=\"255.38,-223.04 245.09,-220.51 251.56,-228.9 255.38,-223.04\"></polygon>\n",
       "</g>\n",
       "\n",
       "<g id=\"node4\" class=\"node\">\n",
       "<title>file:///private/tmp/CWLKERNEL_DATA/b8478e7e-bd68-48a4-a304-97d9b3597366/repo/1st-workflow.cwl#1st-workflow/name_of_file_to_extract</title>\n",
       "<polygon fill=\"#94ddf4\" stroke=\"black\" points=\"16.3,-259.5 16.3,-295.5 247.7,-295.5 247.7,-259.5 16.3,-259.5\"></polygon>\n",
       "<text text-anchor=\"middle\" x=\"132\" y=\"-273.3\" font-family=\"Times,serif\" font-size=\"14.00\">1st-workflow/name_of_file_to_extract</text>\n",
       "</g>\n",
       "\n",
       "<g id=\"edge3\" class=\"edge\">\n",
       "<title>file:///private/tmp/CWLKERNEL_DATA/b8478e7e-bd68-48a4-a304-97d9b3597366/repo/1st-workflow.cwl#1st-workflow/name_of_file_to_extract-&gt;file:///private/tmp/CWLKERNEL_DATA/b8478e7e-bd68-48a4-a304-97d9b3597366/repo/1st-workflow.cwl#1st-workflow/untar</title>\n",
       "<path fill=\"none\" stroke=\"black\" d=\"M152.62,-259.2C163.99,-249.65 178.29,-237.66 190.7,-227.25\"></path>\n",
       "<polygon fill=\"black\" stroke=\"black\" points=\"193.12,-229.78 198.53,-220.68 188.62,-224.42 193.12,-229.78\"></polygon>\n",
       "</g>\n",
       "</g>\n",
       "</svg></div>"
      ]
     },
     "metadata": {},
     "output_type": "display_data"
    }
   ],
   "source": [
    "% view 1st-workflow"
   ]
  },
  {
   "cell_type": "code",
   "execution_count": 9,
   "metadata": {},
   "outputs": [
    {
     "name": "stderr",
     "output_type": "stream",
     "text": [
      "a Hello.java\n"
     ]
    },
    {
     "name": "stdout",
     "output_type": "stream",
     "text": [
      "Add data in memory"
     ]
    },
    {
     "data": {
      "application/json": {
       "compiled_class": {
        "_produced_by": "1st-workflow",
        "basename": "Hello.class",
        "checksum": "sha1$fdb876b40ad9ebc7fee873212e02d5940588642e",
        "class": "File",
        "http://commonwl.org/cwltool#generation": 0,
        "id": "compiled_class",
        "location": "file:///private/tmp/CWLKERNEL_DATA/b8478e7e-bd68-48a4-a304-97d9b3597366/runtime_data/Hello.class",
        "nameext": ".class",
        "nameroot": "Hello",
        "result_counter": 0,
        "size": 184
       }
      },
      "text/plain": [
       "{\"compiled_class\": {\"location\": \"file:///private/tmp/CWLKERNEL_DATA/b8478e7e-bd68-48a4-a304-97d9b3597366/runtime_data/Hello.class\", \"basename\": \"Hello.class\", \"nameroot\": \"Hello\", \"nameext\": \".class\", \"class\": \"File\", \"checksum\": \"sha1$fdb876b40ad9ebc7fee873212e02d5940588642e\", \"size\": 184, \"http://commonwl.org/cwltool#generation\": 0, \"_produced_by\": \"1st-workflow\", \"id\": \"compiled_class\", \"result_counter\": 0}}"
      ]
     },
     "metadata": {
      "application/json": {
       "expanded": false,
       "root": "root"
      }
     },
     "output_type": "display_data"
    }
   ],
   "source": [
    "% system echo \"public class Hello {}\" > Hello.java && tar -cvf hello.tar Hello.java\n",
    "% execute 1st-workflow\n",
    "tarball:\n",
    "  class: File\n",
    "  location: hello.tar\n",
    "name_of_file_to_extract: Hello.java"
   ]
  },
  {
   "cell_type": "markdown",
   "metadata": {},
   "source": [
    "<div class=\"container\" style=\"background-color: rgba(129, 199, 132, 0.265); border-radius: 12px; padding: 8px\">\n",
    "    <h2 style=\"padding: 0px; margin-top: 0px\">Key Points</h2>\n",
    "    <ul>\n",
    "        <li>\"Each step in a workflow must have its own CWL description.\"</li>\n",
    "        <li>\"Top level <code>inputs</code> and <code>outputs</code> of the workflow are described in the inputs and outputs fields respectively.\"</li>\n",
    "        <li>\"The steps are specified under <code>steps</code>.\"</li>\n",
    "        <li>\"Execution order is determined by the connections between steps.\"</li>\n",
    "    </ul>\n",
    "</div>"
   ]
  }
 ],
 "metadata": {
  "kernelspec": {
   "display_name": "Common Workflow Languages",
   "language": "cwl",
   "name": "cwlkernel"
  },
  "language_info": {
   "file_extension": ".cwl",
   "mimetype": "text/x-cwl",
   "name": "yaml"
  }
 },
 "nbformat": 4,
 "nbformat_minor": 4
}
