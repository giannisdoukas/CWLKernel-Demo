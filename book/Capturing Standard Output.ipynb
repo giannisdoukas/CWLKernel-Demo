{
 "cells": [
  {
   "cell_type": "markdown",
   "metadata": {},
   "source": [
    "# [Capturing Standard Output](https://www.commonwl.org/user_guide/05-stdout/index.html)"
   ]
  },
  {
   "cell_type": "markdown",
   "metadata": {},
   "source": [
    "```{admonition} Overview\n",
    "\n",
    "**Teaching**: 10 min\n",
    "\n",
    "**Exercises**: 0 min\n",
    "\n",
    "**Questions**\n",
    "\n",
    "- \"Where does the output of a command go?\"\n",
    "- \"How can I save the output of a command?\"\n",
    "\n",
    "**Objectives**\n",
    "\n",
    "- \"Learn how to describe and handle outputs from a tool.\"\n",
    "\n",
    "```"
   ]
  },
  {
   "cell_type": "markdown",
   "metadata": {},
   "source": [
    "To capture a tool’s standard output stream, add the `stdout` field with the name of the file where the output stream should go. Then add `type: stdout` on the corresponding output parameter."
   ]
  },
  {
   "cell_type": "code",
   "execution_count": 2,
   "metadata": {},
   "outputs": [
    {
     "name": "stdout",
     "output_type": "stream",
     "text": [
      "tool 'stdout-demo' registered"
     ]
    }
   ],
   "source": [
    "cwlVersion: v1.0\n",
    "class: CommandLineTool\n",
    "id: stdout-demo\n",
    "baseCommand: echo\n",
    "stdout: output.txt\n",
    "inputs:\n",
    "  message:\n",
    "    type: string\n",
    "    inputBinding:\n",
    "      position: 1\n",
    "outputs:\n",
    "  example_out:\n",
    "    type: stdout"
   ]
  },
  {
   "cell_type": "code",
   "execution_count": 4,
   "metadata": {},
   "outputs": [
    {
     "name": "stdout",
     "output_type": "stream",
     "text": [
      "Add data in memory"
     ]
    },
    {
     "data": {
      "application/json": {
       "example_out": {
        "_produced_by": "stdout-demo",
        "basename": "output.txt",
        "checksum": "sha1$a0b65939670bc2c010f4d5d6a0b3e4e4590fb92b",
        "class": "File",
        "http://commonwl.org/cwltool#generation": 0,
        "id": "example_out",
        "location": "file:///private/tmp/CWLKERNEL_DATA/67cef2ff-6dc7-405b-9a85-60bb70f8c2bb/runtime_data/output.txt",
        "nameext": ".txt",
        "nameroot": "output",
        "result_counter": 0,
        "size": 13
       }
      },
      "text/plain": [
       "{\"example_out\": {\"location\": \"file:///private/tmp/CWLKERNEL_DATA/67cef2ff-6dc7-405b-9a85-60bb70f8c2bb/runtime_data/output.txt\", \"basename\": \"output.txt\", \"nameroot\": \"output\", \"nameext\": \".txt\", \"class\": \"File\", \"checksum\": \"sha1$a0b65939670bc2c010f4d5d6a0b3e4e4590fb92b\", \"size\": 13, \"http://commonwl.org/cwltool#generation\": 0, \"_produced_by\": \"stdout-demo\", \"id\": \"example_out\", \"result_counter\": 0}}"
      ]
     },
     "metadata": {
      "application/json": {
       "expanded": false,
       "root": "root"
      }
     },
     "output_type": "display_data"
    }
   ],
   "source": [
    "% execute stdout-demo\n",
    "message: Hello World!"
   ]
  },
  {
   "cell_type": "code",
   "execution_count": 5,
   "metadata": {},
   "outputs": [
    {
     "name": "stdout",
     "output_type": "stream",
     "text": [
      "Hello World!\n"
     ]
    }
   ],
   "source": [
    "% displayData example_out"
   ]
  },
  {
   "cell_type": "markdown",
   "metadata": {},
   "source": [
    "```{admonition} Key Points\n",
    "\n",
    "* Use the stdout field to specify a filename to capture streamed output.\n",
    "\n",
    "* The corresponding output parameter must have type: stdout.\n",
    "\n",
    "```"
   ]
  }
 ],
 "metadata": {
  "kernelspec": {
   "display_name": "Common Workflow Languages",
   "language": "cwl",
   "name": "cwlkernel"
  },
  "language_info": {
   "file_extension": ".cwl",
   "mimetype": "text/x-cwl",
   "name": "yaml"
  }
 },
 "nbformat": 4,
 "nbformat_minor": 4
}
